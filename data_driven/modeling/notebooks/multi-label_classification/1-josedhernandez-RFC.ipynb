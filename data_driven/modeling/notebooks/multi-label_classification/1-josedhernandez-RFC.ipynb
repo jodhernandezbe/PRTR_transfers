{
 "cells": [
  {
   "cell_type": "code",
   "execution_count": 10,
   "id": "5ad0cd50",
   "metadata": {
    "id": "5ad0cd50"
   },
   "outputs": [],
   "source": [
    "# Importing libraries\n",
    "from data_driven.modeling.scripts.tuning import rfc_parameter_tuning\n",
    "from data_driven.modeling.scripts.ancillary import (drive_authentication, npz_files, open_dataset,\n",
    "                                                    cv_and_y_random, save_best_params,\n",
    "                                                   rfc_draw_convergence)\n",
    "from data_driven.modeling.scripts.evaluation import performing_cross_validation, data_driven_models_ranking\n",
    "from data_driven.modeling.scripts.metrics import prediction_evaluation\n",
    "\n",
    "%matplotlib inline\n",
    "from skopt.space import Integer, Categorical\n",
    "import pandas as pd\n",
    "import time\n",
    "from sklearn.metrics import plot_confusion_matrix\n",
    "import pickle\n",
    "import os\n",
    "import matplotlib.pyplot as plt\n",
    "import time"
   ]
  },
  {
   "cell_type": "markdown",
   "id": "b6487435",
   "metadata": {
    "id": "b6487435"
   },
   "source": [
    "# 1. Accessing the data "
   ]
  },
  {
   "cell_type": "markdown",
   "id": "17dc750b",
   "metadata": {
    "id": "17dc750b"
   },
   "source": [
    "If you will use Google Drive, you have to enable Google Drive and obtain the client secrets file client_secrets.json (see the following [link](https://developers.google.com/drive/api/v3/enable-drive-api) or [this other](https://www.geeksforgeeks.org/get-list-of-files-and-folders-in-google-drive-storage-using-python/))"
   ]
  },
  {
   "cell_type": "code",
   "execution_count": 2,
   "id": "26bdae01",
   "metadata": {
    "id": "26bdae01",
    "outputId": "fe9ed690-e8d8-4bcd-94af-2e691bdd4646"
   },
   "outputs": [
    {
     "name": "stdout",
     "output_type": "stream",
     "text": [
      "Your browser has been opened to visit:\n",
      "\n",
      "    https://accounts.google.com/o/oauth2/auth?client_id=128273080156-gak8id4v61mj7jjdqqucv74kc5volhj0.apps.googleusercontent.com&redirect_uri=http%3A%2F%2Flocalhost%3A8080%2F&scope=https%3A%2F%2Fwww.googleapis.com%2Fauth%2Fdrive&access_type=offline&response_type=code\n",
      "\n",
      "Authentication successful.\n"
     ]
    }
   ],
   "source": [
    "# Connecting to Google Drive\n",
    "# client_secrets.json need to be in the same directory as the script\n",
    "\n",
    "drive = drive_authentication()"
   ]
  },
  {
   "cell_type": "markdown",
   "id": "e0640d51",
   "metadata": {
    "id": "e0640d51"
   },
   "source": [
    "If you need to check the folder on where you have stored the data for running the multi-class classification algorithm, use the folder ID and the function just below"
   ]
  },
  {
   "cell_type": "code",
   "execution_count": 3,
   "id": "b0314e44",
   "metadata": {
    "id": "b0314e44",
    "outputId": "1a62dc32-19c1-4c12-d04a-d727d88f5a48"
   },
   "outputs": [
    {
     "data": {
      "text/plain": [
       "{'4': '1EcrEiDvZeTfYpC7jng2CYZx53Saf68P2',\n",
       " '5': '1gpVvE9ma8Am1K6SSCYzy3r8TRVJ7kV2w',\n",
       " '6': '1RcsI3VNa29k990N6HUOQiLECHWhjhEvl'}"
      ]
     },
     "execution_count": 3,
     "metadata": {},
     "output_type": "execute_result"
    }
   ],
   "source": [
    "# When you share a folder/file from Google Drive by using its shareable link you will see tomething like \n",
    "# https://drive.google.com/drive/folders/{ID_element}?usp=sharing. You can take the ID_element\n",
    "\n",
    "multi_label_data_folder_id = '1yt28k8qTS0ZXglXYkUILSCeqodzZEJ4R'\n",
    "ids = npz_files(multi_label_data_folder_id, drive)\n",
    "ids"
   ]
  },
  {
   "cell_type": "markdown",
   "id": "7aa9cbb2",
   "metadata": {
    "id": "7aa9cbb2"
   },
   "source": [
    "# 2. Building RFC with default parameters"
   ]
  },
  {
   "cell_type": "code",
   "execution_count": 4,
   "id": "19827af6",
   "metadata": {},
   "outputs": [],
   "source": [
    "# Default parameters\n",
    "model_params = {\n",
    "    'bootstrap': True,\n",
    "    'ccp_alpha': 0.0,\n",
    "    'class_weight': 'balanced',\n",
    "    'criterion': 'gini',\n",
    "    'max_depth': 200,\n",
    "    'max_features': 'sqrt',\n",
    "    'max_leaf_nodes': None,\n",
    "    'max_samples': None,\n",
    "    'min_impurity_decrease': 0.0,\n",
    "    'min_samples_leaf': 1,\n",
    "    'min_samples_split': 2,\n",
    "    'min_weight_fraction_leaf': 0.0,\n",
    "    'n_estimators': 100,\n",
    "    'n_jobs': 4,\n",
    "    'oob_score': False,\n",
    "    'random_state': 0,\n",
    "    'verbose': 0,\n",
    "    'warm_start': False,\n",
    "}"
   ]
  },
  {
   "cell_type": "code",
   "execution_count": 6,
   "id": "8a8a3647",
   "metadata": {
    "id": "8a8a3647"
   },
   "outputs": [
    {
     "name": "stdout",
     "output_type": "stream",
     "text": [
      "Evaluating base model for data preparation id 4\n",
      "\n",
      "X train has the following dimensions: (285888, 87)\n",
      "Y train has the following dimensions: (285888, 10)\n"
     ]
    },
    {
     "name": "stderr",
     "output_type": "stream",
     "text": [
      "5-fold cross validation:   0%|                                                                                                                                                       | 0/5 [00:00<?, ?it/s]2022-02-23 18:37:28.050385: W tensorflow/stream_executor/platform/default/dso_loader.cc:64] Could not load dynamic library 'libcuda.so.1'; dlerror: libcuda.so.1: cannot open shared object file: No such file or directory\n",
      "2022-02-23 18:37:28.050425: W tensorflow/stream_executor/cuda/cuda_driver.cc:269] failed call to cuInit: UNKNOWN ERROR (303)\n",
      "2022-02-23 18:37:28.050451: I tensorflow/stream_executor/cuda/cuda_diagnostics.cc:156] kernel driver does not appear to be running on this host (jodhernandezbe-X399-AORUS-PRO): /proc/driver/nvidia/version does not exist\n",
      "2022-02-23 18:37:28.051349: I tensorflow/core/platform/cpu_feature_guard.cc:151] This TensorFlow binary is optimized with oneAPI Deep Neural Network Library (oneDNN) to use the following CPU instructions in performance-critical operations:  AVX2 FMA\n",
      "To enable them in other operations, rebuild TensorFlow with the appropriate compiler flags.\n",
      "5-fold cross validation: 100%|██████████████████████████████████████████████████████████████████████████████████████████████████████████████████████████████████████████████| 5/5 [34:59<00:00, 419.93s/it]\n",
      "Y-Randomization: 100%|████████████████████████████████████████████████████████████████████████████████████████████████████████████████████████████████████████████████████| 10/10 [33:43<00:00, 202.39s/it]\n"
     ]
    },
    {
     "name": "stdout",
     "output_type": "stream",
     "text": [
      "Evaluating base model for data preparation id 5\n",
      "\n",
      "X train has the following dimensions: (285578, 87)\n",
      "Y train has the following dimensions: (285578, 10)\n"
     ]
    },
    {
     "name": "stderr",
     "output_type": "stream",
     "text": [
      "5-fold cross validation: 100%|██████████████████████████████████████████████████████████████████████████████████████████████████████████████████████████████████████████████| 5/5 [27:49<00:00, 333.80s/it]\n",
      "Y-Randomization: 100%|█████████████████████████████████████████████████████████████████████████████████████████████████████████████████████████████████████████████████████| 10/10 [06:33<00:00, 39.32s/it]\n"
     ]
    },
    {
     "name": "stdout",
     "output_type": "stream",
     "text": [
      "Evaluating base model for data preparation id 6\n",
      "\n",
      "X train has the following dimensions: (286112, 97)\n",
      "Y train has the following dimensions: (286112, 10)\n"
     ]
    },
    {
     "name": "stderr",
     "output_type": "stream",
     "text": [
      "5-fold cross validation: 100%|██████████████████████████████████████████████████████████████████████████████████████████████████████████████████████████████████████████████| 5/5 [27:42<00:00, 332.57s/it]\n",
      "Y-Randomization: 100%|█████████████████████████████████████████████████████████████████████████████████████████████████████████████████████████████████████████████████████| 10/10 [06:26<00:00, 38.69s/it]\n"
     ]
    }
   ],
   "source": [
    "df_results = pd.DataFrame()\n",
    "\n",
    "for id, key in ids.items():\n",
    "    \n",
    "    print(f'Evaluating base model for data preparation id {id}\\n')\n",
    "    \n",
    "    # Opening the dataset\n",
    "    X_train, Y_train = open_dataset(id, key, drive, test=False)\n",
    "    \n",
    "    # Y-randomization and cross-validation\n",
    "    start = time.time()\n",
    "    df_temporary = cv_and_y_random(id, X_train, Y_train,\n",
    "                                            model_params, 'RFC', 'multi-label classification',\n",
    "                                            threshold=0.75\n",
    "                                            )\n",
    "    end = time.time()\n",
    "    df_temporary['time_sec'] = end - start\n",
    "    df_temporary['n_samples'] = X_train.shape[0]\n",
    "    df_temporary['n_bytes'] = X_train.nbytes\n",
    "    \n",
    "    df_results = pd.concat([df_results,\n",
    "                            df_temporary\n",
    "                           ],\n",
    "                          axis=0,\n",
    "                          ignore_index=True)"
   ]
  },
  {
   "cell_type": "code",
   "execution_count": 7,
   "id": "80ef77e8",
   "metadata": {
    "id": "80ef77e8"
   },
   "outputs": [
    {
     "data": {
      "text/html": [
       "<div>\n",
       "<style scoped>\n",
       "    .dataframe tbody tr th:only-of-type {\n",
       "        vertical-align: middle;\n",
       "    }\n",
       "\n",
       "    .dataframe tbody tr th {\n",
       "        vertical-align: top;\n",
       "    }\n",
       "\n",
       "    .dataframe thead th {\n",
       "        text-align: right;\n",
       "    }\n",
       "</style>\n",
       "<table border=\"1\" class=\"dataframe\">\n",
       "  <thead>\n",
       "    <tr style=\"text-align: right;\">\n",
       "      <th></th>\n",
       "      <th>mean_validation_accuracy</th>\n",
       "      <th>mean_train_accuracy</th>\n",
       "      <th>accuracy_analysis</th>\n",
       "      <th>mean_validation_f1</th>\n",
       "      <th>mean_train_f1</th>\n",
       "      <th>mean_validation_0_1_loss_or_error</th>\n",
       "      <th>std_validation_0_1_loss_or_error</th>\n",
       "      <th>y_randomization_mean_0_1_loss_or_error</th>\n",
       "      <th>y_randomization_std_0_1_loss_or_error</th>\n",
       "      <th>id</th>\n",
       "      <th>time_sec</th>\n",
       "      <th>n_samples</th>\n",
       "      <th>n_bytes</th>\n",
       "    </tr>\n",
       "  </thead>\n",
       "  <tbody>\n",
       "    <tr>\n",
       "      <th>0</th>\n",
       "      <td>0.68</td>\n",
       "      <td>0.98</td>\n",
       "      <td>over-fitting (high variance)</td>\n",
       "      <td>0.72</td>\n",
       "      <td>0.98</td>\n",
       "      <td>0.45</td>\n",
       "      <td>0.001664</td>\n",
       "      <td>1.0</td>\n",
       "      <td>0.000266</td>\n",
       "      <td>4</td>\n",
       "      <td>5938.614402</td>\n",
       "      <td>285888</td>\n",
       "      <td>198978048</td>\n",
       "    </tr>\n",
       "    <tr>\n",
       "      <th>1</th>\n",
       "      <td>0.67</td>\n",
       "      <td>0.98</td>\n",
       "      <td>over-fitting (high variance)</td>\n",
       "      <td>0.71</td>\n",
       "      <td>0.98</td>\n",
       "      <td>0.46</td>\n",
       "      <td>0.001416</td>\n",
       "      <td>1.0</td>\n",
       "      <td>0.000245</td>\n",
       "      <td>5</td>\n",
       "      <td>3926.824423</td>\n",
       "      <td>285578</td>\n",
       "      <td>198762288</td>\n",
       "    </tr>\n",
       "    <tr>\n",
       "      <th>2</th>\n",
       "      <td>0.67</td>\n",
       "      <td>0.98</td>\n",
       "      <td>over-fitting (high variance)</td>\n",
       "      <td>0.71</td>\n",
       "      <td>0.98</td>\n",
       "      <td>0.46</td>\n",
       "      <td>0.001924</td>\n",
       "      <td>1.0</td>\n",
       "      <td>0.000323</td>\n",
       "      <td>6</td>\n",
       "      <td>3902.783124</td>\n",
       "      <td>286112</td>\n",
       "      <td>222022912</td>\n",
       "    </tr>\n",
       "  </tbody>\n",
       "</table>\n",
       "</div>"
      ],
      "text/plain": [
       "   mean_validation_accuracy  mean_train_accuracy  \\\n",
       "0                      0.68                 0.98   \n",
       "1                      0.67                 0.98   \n",
       "2                      0.67                 0.98   \n",
       "\n",
       "              accuracy_analysis  mean_validation_f1  mean_train_f1  \\\n",
       "0  over-fitting (high variance)                0.72           0.98   \n",
       "1  over-fitting (high variance)                0.71           0.98   \n",
       "2  over-fitting (high variance)                0.71           0.98   \n",
       "\n",
       "   mean_validation_0_1_loss_or_error  std_validation_0_1_loss_or_error  \\\n",
       "0                               0.45                          0.001664   \n",
       "1                               0.46                          0.001416   \n",
       "2                               0.46                          0.001924   \n",
       "\n",
       "   y_randomization_mean_0_1_loss_or_error  \\\n",
       "0                                     1.0   \n",
       "1                                     1.0   \n",
       "2                                     1.0   \n",
       "\n",
       "   y_randomization_std_0_1_loss_or_error id     time_sec  n_samples    n_bytes  \n",
       "0                               0.000266  4  5938.614402     285888  198978048  \n",
       "1                               0.000245  5  3926.824423     285578  198762288  \n",
       "2                               0.000323  6  3902.783124     286112  222022912  "
      ]
     },
     "execution_count": 7,
     "metadata": {},
     "output_type": "execute_result"
    }
   ],
   "source": [
    "df_results"
   ]
  },
  {
   "cell_type": "code",
   "execution_count": 8,
   "id": "67a7f7e8",
   "metadata": {},
   "outputs": [],
   "source": [
    "# Saving results\n",
    "\n",
    "cv_path = os.path.join(os.getcwd(),\n",
    "                        os.pardir,os.pardir,\n",
    "                        'output', 'base_evaluation',\n",
    "                        'multi-label classification'.replace(' ', '_'),\n",
    "                        'base_results.csv')\n",
    "df_results.to_csv(cv_path, index=False)"
   ]
  },
  {
   "cell_type": "markdown",
   "id": "15bf4d54",
   "metadata": {},
   "source": [
    "The above results show that multi-label models, which consider that the categories are not mutually exclusive, perform better than multi-class models. Even the base RFC performs better than the tuned multi-class one."
   ]
  },
  {
   "cell_type": "markdown",
   "id": "fd61b255",
   "metadata": {
    "id": "fd61b255"
   },
   "source": [
    "# 3. Selection of best data preprocessing\n",
    "\n",
    "Model performance, explainability, and time are three important factors to be considered.\n",
    "\n",
    "1. Explainability: from the point of view of the model, as the three pipelines use RFC, the explainability depends on the features. FAMD reduces the dimensionality by transforming the original features into new orthogonal ones. Thus, it is not possible to make inferences directly about the importance of the original feature. For this cretirion, the pipelines 5 and 6 are a better options.\n",
    "2. Performance: as shown in the above results, the default RFC presents overfitting for the three preprocessing pipelines and their performances are similar, with the pipeline id 4 a little better than the others.\n",
    "3. Time: for Y randomization and cross validation, the pipeline id 6 required around 0.0066 sec/samples. This pepilene could represent the lower time per sample for tuning and prediction for serving models.\n",
    "\n",
    "## 3.1 FAHP\n",
    "\n"
   ]
  },
  {
   "cell_type": "code",
   "execution_count": null,
   "id": "117ac781",
   "metadata": {},
   "outputs": [],
   "source": [
    "# Run this if you require\n",
    "\n",
    "cv_path = os.path.join(os.getcwd(),\n",
    "                        os.pardir,os.pardir,\n",
    "                        'output', 'base_evaluation',\n",
    "                        'multi-label classification'.replace(' ', '_'),\n",
    "                        'base_results.csv')\n",
    "df_results = pd.read_csv(cv_path)\n",
    "df_results"
   ]
  },
  {
   "cell_type": "code",
   "execution_count": 11,
   "id": "c05a9861",
   "metadata": {},
   "outputs": [
    {
     "data": {
      "text/html": [
       "<div>\n",
       "<style scoped>\n",
       "    .dataframe tbody tr th:only-of-type {\n",
       "        vertical-align: middle;\n",
       "    }\n",
       "\n",
       "    .dataframe tbody tr th {\n",
       "        vertical-align: top;\n",
       "    }\n",
       "\n",
       "    .dataframe thead th {\n",
       "        text-align: right;\n",
       "    }\n",
       "</style>\n",
       "<table border=\"1\" class=\"dataframe\">\n",
       "  <thead>\n",
       "    <tr style=\"text-align: right;\">\n",
       "      <th></th>\n",
       "      <th>mean_validation_accuracy</th>\n",
       "      <th>mean_train_accuracy</th>\n",
       "      <th>accuracy_analysis</th>\n",
       "      <th>mean_validation_f1</th>\n",
       "      <th>mean_train_f1</th>\n",
       "      <th>mean_validation_0_1_loss_or_error</th>\n",
       "      <th>std_validation_0_1_loss_or_error</th>\n",
       "      <th>y_randomization_mean_0_1_loss_or_error</th>\n",
       "      <th>y_randomization_std_0_1_loss_or_error</th>\n",
       "      <th>id</th>\n",
       "      <th>...</th>\n",
       "      <th>model_explainability</th>\n",
       "      <th>dimensionality_reduction_explainability</th>\n",
       "      <th>criterion_1</th>\n",
       "      <th>criterion_2</th>\n",
       "      <th>criterion_3</th>\n",
       "      <th>criterion_4</th>\n",
       "      <th>criterion_5</th>\n",
       "      <th>criterion_6</th>\n",
       "      <th>weight</th>\n",
       "      <th>rank</th>\n",
       "    </tr>\n",
       "  </thead>\n",
       "  <tbody>\n",
       "    <tr>\n",
       "      <th>0</th>\n",
       "      <td>0.68</td>\n",
       "      <td>0.98</td>\n",
       "      <td>over-fitting (high variance)</td>\n",
       "      <td>0.72</td>\n",
       "      <td>0.98</td>\n",
       "      <td>0.45</td>\n",
       "      <td>0.001664</td>\n",
       "      <td>1.0</td>\n",
       "      <td>0.000266</td>\n",
       "      <td>4</td>\n",
       "      <td>...</td>\n",
       "      <td>1</td>\n",
       "      <td>0</td>\n",
       "      <td>0.666667</td>\n",
       "      <td>0.72</td>\n",
       "      <td>-0.000000</td>\n",
       "      <td>1.00000</td>\n",
       "      <td>1</td>\n",
       "      <td>0</td>\n",
       "      <td>0.292698</td>\n",
       "      <td>3</td>\n",
       "    </tr>\n",
       "    <tr>\n",
       "      <th>1</th>\n",
       "      <td>0.67</td>\n",
       "      <td>0.98</td>\n",
       "      <td>over-fitting (high variance)</td>\n",
       "      <td>0.71</td>\n",
       "      <td>0.98</td>\n",
       "      <td>0.46</td>\n",
       "      <td>0.001416</td>\n",
       "      <td>1.0</td>\n",
       "      <td>0.000245</td>\n",
       "      <td>5</td>\n",
       "      <td>...</td>\n",
       "      <td>1</td>\n",
       "      <td>1</td>\n",
       "      <td>0.666667</td>\n",
       "      <td>0.71</td>\n",
       "      <td>0.822447</td>\n",
       "      <td>0.00358</td>\n",
       "      <td>1</td>\n",
       "      <td>1</td>\n",
       "      <td>0.340652</td>\n",
       "      <td>2</td>\n",
       "    </tr>\n",
       "    <tr>\n",
       "      <th>2</th>\n",
       "      <td>0.67</td>\n",
       "      <td>0.98</td>\n",
       "      <td>over-fitting (high variance)</td>\n",
       "      <td>0.71</td>\n",
       "      <td>0.98</td>\n",
       "      <td>0.46</td>\n",
       "      <td>0.001924</td>\n",
       "      <td>1.0</td>\n",
       "      <td>0.000323</td>\n",
       "      <td>6</td>\n",
       "      <td>...</td>\n",
       "      <td>1</td>\n",
       "      <td>1</td>\n",
       "      <td>0.666667</td>\n",
       "      <td>0.71</td>\n",
       "      <td>1.000000</td>\n",
       "      <td>-0.00000</td>\n",
       "      <td>1</td>\n",
       "      <td>1</td>\n",
       "      <td>0.366650</td>\n",
       "      <td>1</td>\n",
       "    </tr>\n",
       "  </tbody>\n",
       "</table>\n",
       "<p>3 rows × 23 columns</p>\n",
       "</div>"
      ],
      "text/plain": [
       "   mean_validation_accuracy  mean_train_accuracy  \\\n",
       "0                      0.68                 0.98   \n",
       "1                      0.67                 0.98   \n",
       "2                      0.67                 0.98   \n",
       "\n",
       "              accuracy_analysis  mean_validation_f1  mean_train_f1  \\\n",
       "0  over-fitting (high variance)                0.72           0.98   \n",
       "1  over-fitting (high variance)                0.71           0.98   \n",
       "2  over-fitting (high variance)                0.71           0.98   \n",
       "\n",
       "   mean_validation_0_1_loss_or_error  std_validation_0_1_loss_or_error  \\\n",
       "0                               0.45                          0.001664   \n",
       "1                               0.46                          0.001416   \n",
       "2                               0.46                          0.001924   \n",
       "\n",
       "   y_randomization_mean_0_1_loss_or_error  \\\n",
       "0                                     1.0   \n",
       "1                                     1.0   \n",
       "2                                     1.0   \n",
       "\n",
       "   y_randomization_std_0_1_loss_or_error  id  ...  model_explainability  \\\n",
       "0                               0.000266   4  ...                     1   \n",
       "1                               0.000245   5  ...                     1   \n",
       "2                               0.000323   6  ...                     1   \n",
       "\n",
       "   dimensionality_reduction_explainability  criterion_1  criterion_2  \\\n",
       "0                                        0     0.666667         0.72   \n",
       "1                                        1     0.666667         0.71   \n",
       "2                                        1     0.666667         0.71   \n",
       "\n",
       "   criterion_3  criterion_4  criterion_5  criterion_6    weight  rank  \n",
       "0    -0.000000      1.00000            1            0  0.292698     3  \n",
       "1     0.822447      0.00358            1            1  0.340652     2  \n",
       "2     1.000000     -0.00000            1            1  0.366650     1  \n",
       "\n",
       "[3 rows x 23 columns]"
      ]
     },
     "execution_count": 11,
     "metadata": {},
     "output_type": "execute_result"
    }
   ],
   "source": [
    "# Applyting FAHP\n",
    "\n",
    "df_results['id'] = df_results['id'].astype('int')\n",
    "df_results['model_explainability'] = 1\n",
    "df_results['dimensionality_reduction_explainability'] = df_results['id'].map({4: 0, 5: 1, 6: 1})\n",
    "\n",
    "df_results['weight'] = data_driven_models_ranking(df_results)\n",
    "\n",
    "df_results['rank'] = df_results['weight'].rank(method='dense', ascending=False).astype(int)\n",
    "\n",
    "df_results"
   ]
  },
  {
   "cell_type": "markdown",
   "id": "1db085ef",
   "metadata": {},
   "source": [
    "As shown above, the data preparation pipeline id 6 is the best one for multi-label classification."
   ]
  },
  {
   "cell_type": "markdown",
   "id": "b52c9d2d",
   "metadata": {},
   "source": [
    "Reducing the parameters like n_estimators, max_features, and max_depth and increasing parameters like min_samples_leaf and min_samples_split are more likely to reduce the overfitting for a RFC."
   ]
  },
  {
   "cell_type": "code",
   "execution_count": 16,
   "id": "17036919",
   "metadata": {},
   "outputs": [
    {
     "name": "stdout",
     "output_type": "stream",
     "text": [
      "X train has the following dimensions: (286112, 97)\n",
      "Y train has the following dimensions: (286112, 10)\n"
     ]
    },
    {
     "name": "stderr",
     "output_type": "stream",
     "text": [
      "\n",
      "5-fold cross validation:   0%|                                                                                                                                                       | 0/5 [00:00<?, ?it/s]\u001b[A\n",
      "5-fold cross validation:  20%|███████████████████████████▊                                                                                                               | 1/5 [27:18<1:49:13, 1638.27s/it]\u001b[A\n",
      "5-fold cross validation:  40%|████████████████████████████████████████████████████████▊                                                                                     | 2/5 [30:59<40:14, 804.99s/it]\u001b[A\n",
      "5-fold cross validation:  60%|█████████████████████████████████████████████████████████████████████████████████████▏                                                        | 3/5 [34:39<17:55, 537.69s/it]\u001b[A\n",
      "5-fold cross validation:  80%|█████████████████████████████████████████████████████████████████████████████████████████████████████████████████▌                            | 4/5 [38:25<06:54, 414.75s/it]\u001b[A\n",
      "5-fold cross validation: 100%|██████████████████████████████████████████████████████████████████████████████████████████████████████████████████████████████████████████████| 5/5 [42:07<00:00, 505.57s/it]\u001b[A\n"
     ]
    },
    {
     "data": {
      "text/plain": [
       "{'mean_validation_accuracy': 0.54,\n",
       " 'mean_train_accuracy': 0.58,\n",
       " 'accuracy_analysis': 'under-fitting (high bias and high variance)',\n",
       " 'mean_validation_f1': 0.61,\n",
       " 'mean_train_f1': 0.64,\n",
       " 'mean_validation_0_1_loss_or_error': 0.7,\n",
       " 'std_validation_0_1_loss_or_error': 0.000705}"
      ]
     },
     "execution_count": 16,
     "metadata": {},
     "output_type": "execute_result"
    }
   ],
   "source": [
    "# Default parameters\n",
    "model_params = {\n",
    "    'bootstrap': True,\n",
    "    'ccp_alpha': 0.0,\n",
    "    'class_weight': 'balanced',\n",
    "    'criterion': 'gini',\n",
    "    'max_depth': 25,\n",
    "    'max_features': 'log2',\n",
    "    'max_leaf_nodes': None,\n",
    "    'max_samples': None,\n",
    "    'min_impurity_decrease': 0.0,\n",
    "    'min_samples_leaf': 4,\n",
    "    'min_samples_split': 8,\n",
    "    'min_weight_fraction_leaf': 0.0,\n",
    "    'n_estimators': 1000,\n",
    "    'n_jobs': 4,\n",
    "    'oob_score': False,\n",
    "    'random_state': 0,\n",
    "    'verbose': 0,\n",
    "    'warm_start': False,\n",
    "}\n",
    "\n",
    "# Opening the dataset\n",
    "X_train, Y_train = open_dataset('6', '1RcsI3VNa29k990N6HUOQiLECHWhjhEvl', drive, test=False)\n",
    "\n",
    "# Cross-validation\n",
    "performing_cross_validation('RFC', model_params,\n",
    "                            X_train, Y_train,\n",
    "                            'multi-label classification',\n",
    "                            for_tuning=False, threshold=0.75,\n",
    "                            return_model=False)"
   ]
  },
  {
   "cell_type": "markdown",
   "id": "835a8235",
   "metadata": {
    "id": "835a8235"
   },
   "source": [
    "# 4. Tuning the model"
   ]
  },
  {
   "cell_type": "code",
   "execution_count": 7,
   "id": "a5fde034",
   "metadata": {
    "id": "a5fde034",
    "outputId": "fc1891c1-0179-42c7-c626-040c94fb66ba"
   },
   "outputs": [
    {
     "name": "stdout",
     "output_type": "stream",
     "text": [
      "X train has the following dimensions: (286112, 97)\n",
      "Y train has the following dimensions: (286112, 10)\n",
      "X test has the following dimensions: (38844, 97)\n",
      "Y test has the following dimensions: (38844, 10)\n"
     ]
    }
   ],
   "source": [
    "# Opening the dataset\n",
    "X_train, Y_train, X_test, Y_test = open_dataset('6', '1RcsI3VNa29k990N6HUOQiLECHWhjhEvl', drive, test=True)"
   ]
  },
  {
   "cell_type": "code",
   "execution_count": 8,
   "id": "a44ffdd6",
   "metadata": {},
   "outputs": [],
   "source": [
    "# Fixed parameters\n",
    "model_params = {\n",
    "    'ccp_alpha': 0.0,\n",
    "    'class_weight': 'balanced',\n",
    "    'max_leaf_nodes': None,\n",
    "    'max_samples': None,\n",
    "    'min_impurity_decrease': 0.0,\n",
    "    'min_weight_fraction_leaf': 0.0,\n",
    "    'n_jobs': 4,\n",
    "    'oob_score': False,\n",
    "    'random_state': 0,\n",
    "    'verbose': 0,\n",
    "    'warm_start': False,\n",
    "}"
   ]
  },
  {
   "cell_type": "code",
   "execution_count": 9,
   "id": "fedd4185",
   "metadata": {
    "id": "fedd4185"
   },
   "outputs": [],
   "source": [
    "# For tuning\n",
    "search_space = [Integer(1, 50, name='min_samples_leaf'),\n",
    "                Integer(2, 50, name='min_samples_split'), \n",
    "                Categorical(['log2', 'sqrt'], name='max_features'),\n",
    "                Integer(10, 100, name='n_estimators'),\n",
    "                Integer(5, 200, name='max_depth'),\n",
    "                Categorical(['gini', 'entropy'], name='criterion'),\n",
    "                Categorical([True, False], name='bootstrap')]"
   ]
  },
  {
   "cell_type": "code",
   "execution_count": 13,
   "id": "323ac3fd",
   "metadata": {},
   "outputs": [],
   "source": [
    "# Initial points\n",
    "\n",
    "x_initial = {'min_samples_leaf': 1,\n",
    "            'min_samples_split': 2,\n",
    "            'max_features': 'sqrt',\n",
    "            'n_estimators': 100,\n",
    "            'max_depth': 200,\n",
    "            'criterion': 'gini',\n",
    "            'bootstrap': True}\n",
    "y_initial = -0.71"
   ]
  },
  {
   "cell_type": "code",
   "execution_count": 16,
   "id": "45372e5c",
   "metadata": {
    "id": "45372e5c",
    "outputId": "d873d0c0-11a7-4382-e3c6-9d68b5c28bcf"
   },
   "outputs": [
    {
     "name": "stdout",
     "output_type": "stream",
     "text": [
      "Iteration No: 1 started. Evaluating function at random point.\n",
      "Iteration No: 1 ended. Evaluation done at random point.\n",
      "Time taken: 12.4339\n",
      "Function value obtained: -0.7100\n",
      "Current minimum: -0.7100\n",
      "Iteration No: 2 started. Evaluating function at random point.\n",
      "Iteration No: 2 ended. Evaluation done at random point.\n",
      "Time taken: 1517.4208\n",
      "Function value obtained: -0.5300\n",
      "Current minimum: -0.7100\n",
      "Iteration No: 3 started. Evaluating function at random point.\n",
      "Iteration No: 3 ended. Evaluation done at random point.\n",
      "Time taken: 1432.4188\n",
      "Function value obtained: -0.5700\n",
      "Current minimum: -0.7100\n",
      "Iteration No: 4 started. Evaluating function at random point.\n",
      "Iteration No: 4 ended. Evaluation done at random point.\n",
      "Time taken: 1424.7300\n",
      "Function value obtained: -0.4700\n",
      "Current minimum: -0.7100\n",
      "Iteration No: 5 started. Evaluating function at random point.\n",
      "Iteration No: 5 ended. Evaluation done at random point.\n",
      "Time taken: 1429.5412\n",
      "Function value obtained: -0.5800\n",
      "Current minimum: -0.7100\n",
      "Iteration No: 6 started. Evaluating function at random point.\n",
      "Iteration No: 6 ended. Evaluation done at random point.\n",
      "Time taken: 1451.5593\n",
      "Function value obtained: -0.4700\n",
      "Current minimum: -0.7100\n",
      "Iteration No: 7 started. Searching for the next optimal point.\n",
      "Iteration No: 7 ended. Search finished for the next optimal point.\n",
      "Time taken: 1511.5218\n",
      "Function value obtained: -0.5100\n",
      "Current minimum: -0.7100\n",
      "Iteration No: 8 started. Searching for the next optimal point.\n",
      "Iteration No: 8 ended. Search finished for the next optimal point.\n",
      "Time taken: 1432.4990\n",
      "Function value obtained: -0.5300\n",
      "Current minimum: -0.7100\n",
      "Iteration No: 9 started. Searching for the next optimal point.\n",
      "Iteration No: 9 ended. Search finished for the next optimal point.\n",
      "Time taken: 1474.0878\n",
      "Function value obtained: -0.5200\n",
      "Current minimum: -0.7100\n",
      "Iteration No: 10 started. Searching for the next optimal point.\n",
      "Iteration No: 10 ended. Search finished for the next optimal point.\n",
      "Time taken: 1449.0503\n",
      "Function value obtained: -0.5100\n",
      "Current minimum: -0.7100\n",
      "Iteration No: 11 started. Searching for the next optimal point.\n",
      "Iteration No: 11 ended. Search finished for the next optimal point.\n",
      "Time taken: 1621.5193\n",
      "Function value obtained: -0.7100\n",
      "Current minimum: -0.7100\n",
      "Iteration No: 12 started. Searching for the next optimal point.\n",
      "Iteration No: 12 ended. Search finished for the next optimal point.\n",
      "Time taken: 1515.0304\n",
      "Function value obtained: -0.4400\n",
      "Current minimum: -0.7100\n",
      "Iteration No: 13 started. Searching for the next optimal point.\n",
      "Iteration No: 13 ended. Search finished for the next optimal point.\n",
      "Time taken: 1439.1976\n",
      "Function value obtained: -0.6500\n",
      "Current minimum: -0.7100\n",
      "Iteration No: 14 started. Searching for the next optimal point.\n",
      "Iteration No: 14 ended. Search finished for the next optimal point.\n",
      "Time taken: 1414.2229\n",
      "Function value obtained: -0.4300\n",
      "Current minimum: -0.7100\n",
      "Iteration No: 15 started. Searching for the next optimal point.\n",
      "Iteration No: 15 ended. Search finished for the next optimal point.\n",
      "Time taken: 1457.6767\n",
      "Function value obtained: -0.6200\n",
      "Current minimum: -0.7100\n",
      "Iteration No: 16 started. Searching for the next optimal point.\n",
      "Iteration No: 16 ended. Search finished for the next optimal point.\n",
      "Time taken: 1448.0563\n",
      "Function value obtained: -0.5000\n",
      "Current minimum: -0.7100\n",
      "Iteration No: 17 started. Searching for the next optimal point.\n",
      "Iteration No: 17 ended. Search finished for the next optimal point.\n",
      "Time taken: 1579.6379\n",
      "Function value obtained: -0.6900\n",
      "Current minimum: -0.7100\n",
      "Iteration No: 18 started. Searching for the next optimal point.\n",
      "Iteration No: 18 ended. Search finished for the next optimal point.\n",
      "Time taken: 1433.8923\n",
      "Function value obtained: -0.6200\n",
      "Current minimum: -0.7100\n",
      "Iteration No: 19 started. Searching for the next optimal point.\n",
      "Iteration No: 19 ended. Search finished for the next optimal point.\n",
      "Time taken: 1436.7320\n",
      "Function value obtained: -0.6800\n",
      "Current minimum: -0.7100\n",
      "Iteration No: 20 started. Searching for the next optimal point.\n",
      "Iteration No: 20 ended. Search finished for the next optimal point.\n",
      "Time taken: 1457.0806\n",
      "Function value obtained: -0.5800\n",
      "Current minimum: -0.7100\n",
      "Iteration No: 21 started. Searching for the next optimal point.\n",
      "The minimum for the objective function is 0.71\n",
      "The time actually spent for tuning 27938.33050251007 seconds\n"
     ]
    }
   ],
   "source": [
    "# Tuning\n",
    "# We run Bayesian Optimization with Gaussian Processes, which uses a Multidimensional Gaussian distribution as surrogate model.\n",
    "# The objective function is the negative of the the mean f1 score for 5-fold cross-validation\n",
    "# A threshold of 0.75 for the f1 score to stop the optimization is used\n",
    "# n_iter_search = number of iterations for the Bayesian Optimization\n",
    "# time_to_optimize = the budget time to optimize the Bayesian Optimization\n",
    "\n",
    "start = time.time()\n",
    "\n",
    "tuning_result = rfc_parameter_tuning(X_train, Y_train,\n",
    "                                'multi-label classification',\n",
    "                                model_params, search_space,\n",
    "                                time_to_optimize=14400,\n",
    "                                n_calls=200,\n",
    "                                threshold=0.75, \n",
    "                                verbose=True,\n",
    "                                x_initial=x_initial,\n",
    "                                y_initial=y_initial,\n",
    "                                n_initial_points=10)\n",
    "\n",
    "end = time.time()\n",
    "\n",
    "best_params = {'model': {\n",
    "                    'RFC': {'params': {**tuning_result['best_params'], **model_params}\n",
    "                           }\n",
    "                        }\n",
    "              }\n",
    "\n",
    "# Saving the best parameters\n",
    "save_best_params('multi-label classification', best_params)\n",
    "\n",
    "print(f'The minimum for the objective function is {tuning_result[\"best_objective\"]}')\n",
    "print(f'The time actually spent for tuning {end - start} seconds')  "
   ]
  },
  {
   "cell_type": "code",
   "execution_count": 17,
   "id": "239af1f4",
   "metadata": {},
   "outputs": [
    {
     "data": {
      "image/png": "[encoded data removed]",
      "text/plain": [
       "<Figure size 1008x360 with 1 Axes>"
      ]
     },
     "metadata": {
      "needs_background": "light"
     },
     "output_type": "display_data"
    }
   ],
   "source": [
    "# Convergence drawing\n",
    "\n",
    "rfc_draw_convergence(tuning_result, 'multi-class classification')"
   ]
  },
  {
   "cell_type": "code",
   "execution_count": 13,
   "id": "3ca978b2",
   "metadata": {},
   "outputs": [
    {
     "name": "stderr",
     "output_type": "stream",
     "text": [
      "5-fold cross validation: 100%|██████████| 5/5 [18:28<00:00, 221.66s/it]\n"
     ]
    }
   ],
   "source": [
    "# cross-validation with the found hyperparameters\n",
    "\n",
    "path_pickle = os.path.join(os.getcwd(),\n",
    "                        os.pardir,os.pardir,\n",
    "                        'output', 'models',\n",
    "                        'multi-class classification'.replace(' ', '_'),\n",
    "                        'RFC_best_params.pkl')\n",
    "\n",
    "with open(path_pickle, 'rb') as inputfile:\n",
    "    best_params = pickle.load(inputfile)['model']['RFC']['params']\n",
    "\n",
    "# Y-randomization and cross-validation\n",
    "cv_result, classifier = performing_cross_validation('RFC', best_params,\n",
    "                                                    X_train, Y_train.reshape(Y_train.shape[0],),\n",
    "                                                    'multi-class classification',\n",
    "                                                    for_tuning=False, threshold=0.75,\n",
    "                                                    return_model=True)"
   ]
  },
  {
   "cell_type": "code",
   "execution_count": 14,
   "id": "4f847583",
   "metadata": {},
   "outputs": [
    {
     "data": {
      "text/html": [
       "<div>\n",
       "<style scoped>\n",
       "    .dataframe tbody tr th:only-of-type {\n",
       "        vertical-align: middle;\n",
       "    }\n",
       "\n",
       "    .dataframe tbody tr th {\n",
       "        vertical-align: top;\n",
       "    }\n",
       "\n",
       "    .dataframe thead th {\n",
       "        text-align: right;\n",
       "    }\n",
       "</style>\n",
       "<table border=\"1\" class=\"dataframe\">\n",
       "  <thead>\n",
       "    <tr style=\"text-align: right;\">\n",
       "      <th></th>\n",
       "      <th>mean_validation_accuracy</th>\n",
       "      <th>mean_train_accuracy</th>\n",
       "      <th>accuracy_analysis</th>\n",
       "      <th>mean_validation_f1</th>\n",
       "      <th>mean_train_f1</th>\n",
       "      <th>mean_validation_0_1_loss_or_error</th>\n",
       "      <th>std_validation_0_1_loss_or_error</th>\n",
       "    </tr>\n",
       "  </thead>\n",
       "  <tbody>\n",
       "    <tr>\n",
       "      <th>0</th>\n",
       "      <td>0.49</td>\n",
       "      <td>0.57</td>\n",
       "      <td>under-fitting (high bias and high variance)</td>\n",
       "      <td>0.46</td>\n",
       "      <td>0.55</td>\n",
       "      <td>0.51</td>\n",
       "      <td>0.001359</td>\n",
       "    </tr>\n",
       "  </tbody>\n",
       "</table>\n",
       "</div>"
      ],
      "text/plain": [
       "   mean_validation_accuracy  mean_train_accuracy  \\\n",
       "0                      0.49                 0.57   \n",
       "\n",
       "                             accuracy_analysis  mean_validation_f1  \\\n",
       "0  under-fitting (high bias and high variance)                0.46   \n",
       "\n",
       "   mean_train_f1  mean_validation_0_1_loss_or_error  \\\n",
       "0           0.55                               0.51   \n",
       "\n",
       "   std_validation_0_1_loss_or_error  \n",
       "0                          0.001359  "
      ]
     },
     "execution_count": 14,
     "metadata": {},
     "output_type": "execute_result"
    }
   ],
   "source": [
    "pd.DataFrame({key: [val] for key, val in cv_result.items()})"
   ]
  },
  {
   "cell_type": "code",
   "execution_count": 19,
   "id": "2838e6bc",
   "metadata": {},
   "outputs": [
    {
     "name": "stdout",
     "output_type": "stream",
     "text": [
      "Test accuracy is 0.29439092303339837\n",
      "Test f1 score is 0.24484238634542604\n"
     ]
    }
   ],
   "source": [
    "# External evaluation\n",
    "\n",
    "Y_test_hat = classifier.predict(X_test)\n",
    "\n",
    "print(f'Test accuracy is {prediction_evaluation(Y_test.reshape(Y_test.shape[0],), Y_test_hat)}')\n",
    "print(f'Test f1 score is {prediction_evaluation(Y_test.reshape(Y_test.shape[0],), Y_test_hat, metric=\"f1\")}')"
   ]
  }
 ],
 "metadata": {
  "colab": {
   "name": "1-josedhernandez-RFC.ipynb",
   "provenance": []
  },
  "kernelspec": {
   "display_name": "Python 3 (ipykernel)",
   "language": "python",
   "name": "python3"
  },
  "language_info": {
   "codemirror_mode": {
    "name": "ipython",
    "version": 3
   },
   "file_extension": ".py",
   "mimetype": "text/x-python",
   "name": "python",
   "nbconvert_exporter": "python",
   "pygments_lexer": "ipython3",
   "version": "3.9.4"
  }
 },
 "nbformat": 4,
 "nbformat_minor": 5
}
