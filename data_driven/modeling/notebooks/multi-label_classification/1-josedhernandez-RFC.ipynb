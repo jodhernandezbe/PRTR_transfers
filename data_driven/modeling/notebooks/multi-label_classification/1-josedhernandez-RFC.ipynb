{
 "cells": [
  {
   "cell_type": "code",
   "execution_count": 1,
   "id": "5ad0cd50",
   "metadata": {
    "id": "5ad0cd50"
   },
   "outputs": [],
   "source": [
    "# Importing libraries\n",
    "from data_driven.modeling.scripts.tuning import rfc_parameter_tuning\n",
    "from data_driven.modeling.scripts.ancillary import (drive_authentication, npz_files, open_dataset,\n",
    "                                                    cv_and_y_random, save_best_params,\n",
    "                                                   rfc_draw_convergence)\n",
    "from data_driven.modeling.scripts.evaluation import performing_cross_validation\n",
    "from data_driven.modeling.scripts.metrics import prediction_evaluation\n",
    "\n",
    "%matplotlib inline\n",
    "from skopt.space import Integer, Categorical\n",
    "import pandas as pd\n",
    "import time\n",
    "from sklearn.metrics import plot_confusion_matrix\n",
    "import pickle\n",
    "import os\n",
    "import matplotlib.pyplot as plt"
   ]
  },
  {
   "cell_type": "markdown",
   "id": "b6487435",
   "metadata": {
    "id": "b6487435"
   },
   "source": [
    "# 1. Accessing the data "
   ]
  },
  {
   "cell_type": "markdown",
   "id": "17dc750b",
   "metadata": {
    "id": "17dc750b"
   },
   "source": [
    "If you will use Google Drive, you have to enable Google Drive and obtain the client secrets file client_secrets.json (see the following [link](https://developers.google.com/drive/api/v3/enable-drive-api) or [this other](https://www.geeksforgeeks.org/get-list-of-files-and-folders-in-google-drive-storage-using-python/))"
   ]
  },
  {
   "cell_type": "code",
   "execution_count": 2,
   "id": "26bdae01",
   "metadata": {
    "id": "26bdae01",
    "outputId": "fe9ed690-e8d8-4bcd-94af-2e691bdd4646"
   },
   "outputs": [
    {
     "name": "stdout",
     "output_type": "stream",
     "text": [
      "Your browser has been opened to visit:\n",
      "\n",
      "    https://accounts.google.com/o/oauth2/auth?client_id=128273080156-gak8id4v61mj7jjdqqucv74kc5volhj0.apps.googleusercontent.com&redirect_uri=http%3A%2F%2Flocalhost%3A8080%2F&scope=https%3A%2F%2Fwww.googleapis.com%2Fauth%2Fdrive&access_type=offline&response_type=code\n",
      "\n",
      "Authentication successful.\n"
     ]
    }
   ],
   "source": [
    "# Connecting to Google Drive\n",
    "# client_secrets.json need to be in the same directory as the script\n",
    "\n",
    "drive = drive_authentication()"
   ]
  },
  {
   "cell_type": "markdown",
   "id": "e0640d51",
   "metadata": {
    "id": "e0640d51"
   },
   "source": [
    "If you need to check the folder on where you have stored the data for running the multi-class classification algorithm, use the folder ID and the function just below"
   ]
  },
  {
   "cell_type": "code",
   "execution_count": 3,
   "id": "b0314e44",
   "metadata": {
    "id": "b0314e44",
    "outputId": "1a62dc32-19c1-4c12-d04a-d727d88f5a48"
   },
   "outputs": [
    {
     "data": {
      "text/plain": [
       "{'4': '1EcrEiDvZeTfYpC7jng2CYZx53Saf68P2',\n",
       " '5': '1gpVvE9ma8Am1K6SSCYzy3r8TRVJ7kV2w',\n",
       " '6': '1RcsI3VNa29k990N6HUOQiLECHWhjhEvl'}"
      ]
     },
     "execution_count": 3,
     "metadata": {},
     "output_type": "execute_result"
    }
   ],
   "source": [
    "# When you share a folder/file from Google Drive by using its shareable link you will see tomething like \n",
    "# https://drive.google.com/drive/folders/{ID_element}?usp=sharing. You can take the ID_element\n",
    "\n",
    "multi_label_data_folder_id = '1yt28k8qTS0ZXglXYkUILSCeqodzZEJ4R'\n",
    "ids = npz_files(multi_label_data_folder_id, drive)\n",
    "ids"
   ]
  },
  {
   "cell_type": "markdown",
   "id": "7aa9cbb2",
   "metadata": {
    "id": "7aa9cbb2"
   },
   "source": [
    "# 2. Building RFC with default parameters"
   ]
  },
  {
   "cell_type": "code",
   "execution_count": 4,
   "id": "19827af6",
   "metadata": {},
   "outputs": [],
   "source": [
    "# Default parameters\n",
    "model_params = {\n",
    "    'bootstrap': True,\n",
    "    'ccp_alpha': 0.0,\n",
    "    'class_weight': 'balanced',\n",
    "    'criterion': 'gini',\n",
    "    'max_depth': 200,\n",
    "    'max_features': 'sqrt',\n",
    "    'max_leaf_nodes': None,\n",
    "    'max_samples': None,\n",
    "    'min_impurity_decrease': 0.0,\n",
    "    'min_samples_leaf': 1,\n",
    "    'min_samples_split': 2,\n",
    "    'min_weight_fraction_leaf': 0.0,\n",
    "    'n_estimators': 100,\n",
    "    'n_jobs': 4,\n",
    "    'oob_score': False,\n",
    "    'random_state': 0,\n",
    "    'verbose': 0,\n",
    "    'warm_start': False,\n",
    "}"
   ]
  },
  {
   "cell_type": "code",
   "execution_count": 5,
   "id": "8a8a3647",
   "metadata": {
    "id": "8a8a3647"
   },
   "outputs": [
    {
     "name": "stdout",
     "output_type": "stream",
     "text": [
      "Evaluating base model for data preparation id 4\n",
      "\n",
      "X train has the following dimensions: (285888, 87)\n",
      "Y train has the following dimensions: (285888, 10)\n"
     ]
    },
    {
     "name": "stderr",
     "output_type": "stream",
     "text": [
      "5-fold cross validation: 100%|██████████| 5/5 [33:33<00:00, 402.60s/it]   \n",
      "Y-Randomization: 100%|██████████| 10/10 [30:17<00:00, 181.75s/it]\n"
     ]
    },
    {
     "name": "stdout",
     "output_type": "stream",
     "text": [
      "Evaluating base model for data preparation id 5\n",
      "\n",
      "X train has the following dimensions: (285578, 87)\n",
      "Y train has the following dimensions: (285578, 10)\n"
     ]
    },
    {
     "name": "stderr",
     "output_type": "stream",
     "text": [
      "5-fold cross validation: 100%|██████████| 5/5 [25:45<00:00, 309.06s/it]   \n",
      "Y-Randomization: 100%|██████████| 10/10 [05:52<00:00, 35.29s/it]\n"
     ]
    },
    {
     "name": "stdout",
     "output_type": "stream",
     "text": [
      "Evaluating base model for data preparation id 6\n",
      "\n",
      "X train has the following dimensions: (286112, 97)\n",
      "Y train has the following dimensions: (286112, 10)\n"
     ]
    },
    {
     "name": "stderr",
     "output_type": "stream",
     "text": [
      "5-fold cross validation: 100%|██████████| 5/5 [25:40<00:00, 308.20s/it]   \n",
      "Y-Randomization: 100%|██████████| 10/10 [05:48<00:00, 34.85s/it]\n"
     ]
    }
   ],
   "source": [
    "df_results = pd.DataFrame()\n",
    "\n",
    "for id, key in ids.items():\n",
    "    \n",
    "    print(f'Evaluating base model for data preparation id {id}\\n')\n",
    "    \n",
    "    # Opening the dataset\n",
    "    X_train, Y_train = open_dataset(id, key, drive, test=False)\n",
    "    \n",
    "    # Y-randomization and cross-validation\n",
    "    df_results = pd.concat([df_results,\n",
    "                            cv_and_y_random(id, X_train, Y_train,\n",
    "                                            model_params, 'RFC', 'multi-label classification',\n",
    "                                            threshold=0.75\n",
    "                                            )\n",
    "                           ],\n",
    "                          axis=0,\n",
    "                          ignore_index=True)"
   ]
  },
  {
   "cell_type": "code",
   "execution_count": 6,
   "id": "80ef77e8",
   "metadata": {
    "id": "80ef77e8"
   },
   "outputs": [
    {
     "data": {
      "text/html": [
       "<div>\n",
       "<style scoped>\n",
       "    .dataframe tbody tr th:only-of-type {\n",
       "        vertical-align: middle;\n",
       "    }\n",
       "\n",
       "    .dataframe tbody tr th {\n",
       "        vertical-align: top;\n",
       "    }\n",
       "\n",
       "    .dataframe thead th {\n",
       "        text-align: right;\n",
       "    }\n",
       "</style>\n",
       "<table border=\"1\" class=\"dataframe\">\n",
       "  <thead>\n",
       "    <tr style=\"text-align: right;\">\n",
       "      <th></th>\n",
       "      <th>mean_validation_accuracy</th>\n",
       "      <th>mean_train_accuracy</th>\n",
       "      <th>accuracy_analysis</th>\n",
       "      <th>mean_validation_f1</th>\n",
       "      <th>mean_train_f1</th>\n",
       "      <th>mean_validation_0_1_loss_or_error</th>\n",
       "      <th>std_validation_0_1_loss_or_error</th>\n",
       "      <th>y_randomization_mean_0_1_loss_or_error</th>\n",
       "      <th>y_randomization_std_0_1_loss_or_error</th>\n",
       "      <th>id</th>\n",
       "    </tr>\n",
       "  </thead>\n",
       "  <tbody>\n",
       "    <tr>\n",
       "      <th>0</th>\n",
       "      <td>0.68</td>\n",
       "      <td>0.98</td>\n",
       "      <td>over-fitting (high variance)</td>\n",
       "      <td>0.72</td>\n",
       "      <td>0.98</td>\n",
       "      <td>0.45</td>\n",
       "      <td>0.001265</td>\n",
       "      <td>1.0</td>\n",
       "      <td>0.000204</td>\n",
       "      <td>4</td>\n",
       "    </tr>\n",
       "    <tr>\n",
       "      <th>1</th>\n",
       "      <td>0.67</td>\n",
       "      <td>0.98</td>\n",
       "      <td>over-fitting (high variance)</td>\n",
       "      <td>0.71</td>\n",
       "      <td>0.98</td>\n",
       "      <td>0.46</td>\n",
       "      <td>0.001966</td>\n",
       "      <td>1.0</td>\n",
       "      <td>0.000211</td>\n",
       "      <td>5</td>\n",
       "    </tr>\n",
       "    <tr>\n",
       "      <th>2</th>\n",
       "      <td>0.67</td>\n",
       "      <td>0.98</td>\n",
       "      <td>over-fitting (high variance)</td>\n",
       "      <td>0.71</td>\n",
       "      <td>0.98</td>\n",
       "      <td>0.46</td>\n",
       "      <td>0.000865</td>\n",
       "      <td>1.0</td>\n",
       "      <td>0.000183</td>\n",
       "      <td>6</td>\n",
       "    </tr>\n",
       "  </tbody>\n",
       "</table>\n",
       "</div>"
      ],
      "text/plain": [
       "   mean_validation_accuracy  mean_train_accuracy  \\\n",
       "0                      0.68                 0.98   \n",
       "1                      0.67                 0.98   \n",
       "2                      0.67                 0.98   \n",
       "\n",
       "              accuracy_analysis  mean_validation_f1  mean_train_f1  \\\n",
       "0  over-fitting (high variance)                0.72           0.98   \n",
       "1  over-fitting (high variance)                0.71           0.98   \n",
       "2  over-fitting (high variance)                0.71           0.98   \n",
       "\n",
       "   mean_validation_0_1_loss_or_error  std_validation_0_1_loss_or_error  \\\n",
       "0                               0.45                          0.001265   \n",
       "1                               0.46                          0.001966   \n",
       "2                               0.46                          0.000865   \n",
       "\n",
       "   y_randomization_mean_0_1_loss_or_error  \\\n",
       "0                                     1.0   \n",
       "1                                     1.0   \n",
       "2                                     1.0   \n",
       "\n",
       "   y_randomization_std_0_1_loss_or_error id  \n",
       "0                               0.000204  4  \n",
       "1                               0.000211  5  \n",
       "2                               0.000183  6  "
      ]
     },
     "execution_count": 6,
     "metadata": {},
     "output_type": "execute_result"
    }
   ],
   "source": [
    "df_results"
   ]
  },
  {
   "cell_type": "markdown",
   "id": "fd61b255",
   "metadata": {
    "id": "fd61b255"
   },
   "source": [
    "# 3. Selection of best data preprocessing\n",
    "\n",
    "Model performance, explainability, and time are three important factors to be considered.\n",
    "\n",
    "1. Explainability:\n",
    "2. Performance:\n",
    "3. Time: \n",
    "Thus, it is not complicated to decide for its performance, time for processing a sample, and explainability to select the pipeline id 2.\n",
    "\n"
   ]
  },
  {
   "cell_type": "markdown",
   "id": "f25d6886",
   "metadata": {},
   "source": [
    "Reducing the parameters like n_estimators, max_features, and max_depth and increasing parameters like min_samples_leaf and min_samples_split are more likely to reduce the overfitting for a RFC."
   ]
  },
  {
   "cell_type": "code",
   "execution_count": 34,
   "id": "d5798d7f",
   "metadata": {},
   "outputs": [
    {
     "name": "stdout",
     "output_type": "stream",
     "text": [
      "X train has the following dimensions: (486440, 79)\n",
      "Y train has the following dimensions: (486440, 1)\n"
     ]
    },
    {
     "name": "stderr",
     "output_type": "stream",
     "text": [
      "5-fold cross validation: 100%|██████████| 5/5 [00:59<00:00, 11.86s/it]\n",
      "Y-Randomization: 100%|██████████| 10/10 [02:11<00:00, 13.11s/it]\n"
     ]
    },
    {
     "data": {
      "text/html": [
       "<div>\n",
       "<style scoped>\n",
       "    .dataframe tbody tr th:only-of-type {\n",
       "        vertical-align: middle;\n",
       "    }\n",
       "\n",
       "    .dataframe tbody tr th {\n",
       "        vertical-align: top;\n",
       "    }\n",
       "\n",
       "    .dataframe thead th {\n",
       "        text-align: right;\n",
       "    }\n",
       "</style>\n",
       "<table border=\"1\" class=\"dataframe\">\n",
       "  <thead>\n",
       "    <tr style=\"text-align: right;\">\n",
       "      <th></th>\n",
       "      <th>mean_validation_accuracy</th>\n",
       "      <th>mean_train_accuracy</th>\n",
       "      <th>accuracy_analysis</th>\n",
       "      <th>mean_validation_f1</th>\n",
       "      <th>mean_train_f1</th>\n",
       "      <th>mean_validation_0_1_loss_or_error</th>\n",
       "      <th>std_validation_0_1_loss_or_error</th>\n",
       "      <th>y_randomization_mean_0_1_loss_or_error</th>\n",
       "      <th>y_randomization_std_0_1_loss_or_error</th>\n",
       "      <th>id</th>\n",
       "    </tr>\n",
       "  </thead>\n",
       "  <tbody>\n",
       "    <tr>\n",
       "      <th>0</th>\n",
       "      <td>0.47</td>\n",
       "      <td>0.73</td>\n",
       "      <td>under-fitting (high bias and high variance)</td>\n",
       "      <td>0.45</td>\n",
       "      <td>0.73</td>\n",
       "      <td>0.53</td>\n",
       "      <td>0.001469</td>\n",
       "      <td>0.9</td>\n",
       "      <td>0.000664</td>\n",
       "      <td>2</td>\n",
       "    </tr>\n",
       "  </tbody>\n",
       "</table>\n",
       "</div>"
      ],
      "text/plain": [
       "   mean_validation_accuracy  mean_train_accuracy  \\\n",
       "0                      0.47                 0.73   \n",
       "\n",
       "                             accuracy_analysis  mean_validation_f1  \\\n",
       "0  under-fitting (high bias and high variance)                0.45   \n",
       "\n",
       "   mean_train_f1  mean_validation_0_1_loss_or_error  \\\n",
       "0           0.73                               0.53   \n",
       "\n",
       "   std_validation_0_1_loss_or_error  y_randomization_mean_0_1_loss_or_error  \\\n",
       "0                          0.001469                                     0.9   \n",
       "\n",
       "   y_randomization_std_0_1_loss_or_error id  \n",
       "0                               0.000664  2  "
      ]
     },
     "execution_count": 34,
     "metadata": {},
     "output_type": "execute_result"
    }
   ],
   "source": [
    "# Parameters with lower max_depth\n",
    "model_params = {\n",
    "    'bootstrap': True,\n",
    "    'ccp_alpha': 0.0,\n",
    "    'class_weight': 'balanced',\n",
    "    'criterion': 'gini',\n",
    "    'max_depth': 25,\n",
    "    'max_features': 'sqrt',\n",
    "    'max_leaf_nodes': None,\n",
    "    'max_samples': None,\n",
    "    'min_impurity_decrease': 0.0,\n",
    "    'min_samples_leaf': 1,\n",
    "    'min_samples_split': 2,\n",
    "    'min_weight_fraction_leaf': 0.0,\n",
    "    'n_estimators': 50,\n",
    "    'n_jobs': 4,\n",
    "    'oob_score': False,\n",
    "    'random_state': 0,\n",
    "    'verbose': 0,\n",
    "    'warm_start': False,\n",
    "}\n",
    "\n",
    "\n",
    "# Opening the dataset\n",
    "X_train, Y_train = open_dataset('2', '1pAgEm3u5_spuniqBBfFta3EK2xPuLQc3', drive, test=False)\n",
    "\n",
    "# Y-randomization and cross-validation\n",
    "cv_and_y_random('2', X_train, Y_train.reshape(Y_train.shape[0],),\n",
    "                            model_params, 'RFC', 'multi-class classification',\n",
    "                            threshold=0.75)"
   ]
  },
  {
   "cell_type": "markdown",
   "id": "ad74836b",
   "metadata": {},
   "source": [
    "As shown by the above test, reducing max_depth may help to reduce overfitting by increasing the model bias. The above point will be used as the starting point for the model tuning."
   ]
  },
  {
   "cell_type": "markdown",
   "id": "835a8235",
   "metadata": {
    "id": "835a8235"
   },
   "source": [
    "# 4. Tuning the model"
   ]
  },
  {
   "cell_type": "code",
   "execution_count": 4,
   "id": "a5fde034",
   "metadata": {
    "id": "a5fde034",
    "outputId": "fc1891c1-0179-42c7-c626-040c94fb66ba"
   },
   "outputs": [
    {
     "name": "stdout",
     "output_type": "stream",
     "text": [
      "X train has the following dimensions: (486440, 79)\n",
      "Y train has the following dimensions: (486440, 1)\n",
      "X test has the following dimensions: (67159, 79)\n",
      "Y test has the following dimensions: (67159, 1)\n"
     ]
    }
   ],
   "source": [
    "# Opening the dataset\n",
    "X_train, Y_train, X_test, Y_test = open_dataset('2', '1pAgEm3u5_spuniqBBfFta3EK2xPuLQc3', drive, test=True)"
   ]
  },
  {
   "cell_type": "code",
   "execution_count": 5,
   "id": "a44ffdd6",
   "metadata": {},
   "outputs": [],
   "source": [
    "# Fixed parameters\n",
    "model_params = {\n",
    "    'ccp_alpha': 0.0,\n",
    "    'class_weight': 'balanced',\n",
    "    'max_leaf_nodes': None,\n",
    "    'max_samples': None,\n",
    "    'min_impurity_decrease': 0.0,\n",
    "    'min_weight_fraction_leaf': 0.0,\n",
    "    'n_jobs': 4,\n",
    "    'oob_score': False,\n",
    "    'random_state': 0,\n",
    "    'verbose': 0,\n",
    "    'warm_start': False,\n",
    "}"
   ]
  },
  {
   "cell_type": "code",
   "execution_count": 6,
   "id": "fedd4185",
   "metadata": {
    "id": "fedd4185"
   },
   "outputs": [],
   "source": [
    "# For tuning\n",
    "search_space = [Integer(1, 50, name='min_samples_leaf'),\n",
    "                Integer(2, 50, name='min_samples_split'), \n",
    "                Categorical(['log2', 'sqrt'], name='max_features'),\n",
    "                Integer(10, 100, name='n_estimators'),\n",
    "                Integer(5, 200, name='max_depth'),\n",
    "                Categorical(['gini', 'entropy'], name='criterion'),\n",
    "                Categorical([True, False], name='bootstrap')]"
   ]
  },
  {
   "cell_type": "code",
   "execution_count": 7,
   "id": "323ac3fd",
   "metadata": {},
   "outputs": [],
   "source": [
    "# Initial points\n",
    "\n",
    "x_initial = {'min_samples_leaf': 1,\n",
    "            'min_samples_split': 2,\n",
    "            'max_features': 'sqrt',\n",
    "            'n_estimators': 50,\n",
    "            'max_depth': 25,\n",
    "            'criterion': 'gini',\n",
    "            'bootstrap': True}\n",
    "y_initial = -0.45"
   ]
  },
  {
   "cell_type": "code",
   "execution_count": 11,
   "id": "45372e5c",
   "metadata": {
    "id": "45372e5c",
    "outputId": "d873d0c0-11a7-4382-e3c6-9d68b5c28bcf"
   },
   "outputs": [
    {
     "name": "stdout",
     "output_type": "stream",
     "text": [
      "Iteration No: 1 started. Evaluating function at random point.\n",
      "Iteration No: 1 ended. Evaluation done at random point.\n",
      "Time taken: 12.2773\n",
      "Function value obtained: -0.4500\n",
      "Current minimum: -0.4500\n",
      "Iteration No: 2 started. Evaluating function at random point.\n",
      "Iteration No: 2 ended. Evaluation done at random point.\n",
      "Time taken: 892.9520\n",
      "Function value obtained: -0.3900\n",
      "Current minimum: -0.4500\n",
      "Iteration No: 3 started. Evaluating function at random point.\n",
      "Iteration No: 3 ended. Evaluation done at random point.\n",
      "Time taken: 105.6757\n",
      "Function value obtained: -0.4200\n",
      "Current minimum: -0.4500\n",
      "Iteration No: 4 started. Evaluating function at random point.\n",
      "Iteration No: 4 ended. Evaluation done at random point.\n",
      "Time taken: 31.5891\n",
      "Function value obtained: -0.2600\n",
      "Current minimum: -0.4500\n",
      "Iteration No: 5 started. Evaluating function at random point.\n",
      "Iteration No: 5 ended. Evaluation done at random point.\n",
      "Time taken: 114.9829\n",
      "Function value obtained: -0.4300\n",
      "Current minimum: -0.4500\n",
      "Iteration No: 6 started. Evaluating function at random point.\n",
      "Iteration No: 6 ended. Evaluation done at random point.\n",
      "Time taken: 265.1542\n",
      "Function value obtained: -0.2600\n",
      "Current minimum: -0.4500\n",
      "Iteration No: 7 started. Searching for the next optimal point.\n",
      "Iteration No: 7 ended. Search finished for the next optimal point.\n",
      "Time taken: 475.1908\n",
      "Function value obtained: -0.3900\n",
      "Current minimum: -0.4500\n",
      "Iteration No: 8 started. Searching for the next optimal point.\n",
      "Iteration No: 8 ended. Search finished for the next optimal point.\n",
      "Time taken: 1486.2874\n",
      "Function value obtained: -0.4600\n",
      "Current minimum: -0.4600\n",
      "Iteration No: 9 started. Searching for the next optimal point.\n",
      "Iteration No: 9 ended. Search finished for the next optimal point.\n",
      "Time taken: 1428.3897\n",
      "Function value obtained: -0.3800\n",
      "Current minimum: -0.4600\n",
      "Iteration No: 10 started. Searching for the next optimal point.\n",
      "Iteration No: 10 ended. Search finished for the next optimal point.\n",
      "Time taken: 147.3137\n",
      "Function value obtained: -0.4500\n",
      "Current minimum: -0.4600\n",
      "Iteration No: 11 started. Searching for the next optimal point.\n",
      "Iteration No: 11 ended. Search finished for the next optimal point.\n",
      "Time taken: 1229.3207\n",
      "Function value obtained: -0.4700\n",
      "Current minimum: -0.4700\n",
      "Iteration No: 12 started. Searching for the next optimal point.\n",
      "Iteration No: 12 ended. Search finished for the next optimal point.\n",
      "Time taken: 374.1876\n",
      "Function value obtained: -0.4700\n",
      "Current minimum: -0.4700\n",
      "Iteration No: 13 started. Searching for the next optimal point.\n",
      "Iteration No: 13 ended. Search finished for the next optimal point.\n",
      "Time taken: 39.8007\n",
      "Function value obtained: -0.4600\n",
      "Current minimum: -0.4700\n",
      "Iteration No: 14 started. Searching for the next optimal point.\n",
      "Iteration No: 14 ended. Search finished for the next optimal point.\n",
      "Time taken: 28.5564\n",
      "Function value obtained: -0.4500\n",
      "Current minimum: -0.4700\n",
      "Iteration No: 15 started. Searching for the next optimal point.\n",
      "Iteration No: 15 ended. Search finished for the next optimal point.\n",
      "Time taken: 543.9762\n",
      "Function value obtained: -0.2000\n",
      "Current minimum: -0.4700\n",
      "Iteration No: 16 started. Searching for the next optimal point.\n",
      "Iteration No: 16 ended. Search finished for the next optimal point.\n",
      "Time taken: 28.1868\n",
      "Function value obtained: -0.4600\n",
      "Current minimum: -0.4700\n",
      "Iteration No: 17 started. Searching for the next optimal point.\n",
      "Iteration No: 17 ended. Search finished for the next optimal point.\n",
      "Time taken: 1455.4019\n",
      "Function value obtained: -0.3800\n",
      "Current minimum: -0.4700\n",
      "Iteration No: 18 started. Searching for the next optimal point.\n",
      "Iteration No: 18 ended. Search finished for the next optimal point.\n",
      "Time taken: 1387.0956\n",
      "Function value obtained: -0.4400\n",
      "Current minimum: -0.4700\n",
      "Iteration No: 19 started. Searching for the next optimal point.\n",
      "Iteration No: 19 ended. Search finished for the next optimal point.\n",
      "Time taken: 24.5936\n",
      "Function value obtained: -0.2400\n",
      "Current minimum: -0.4700\n",
      "Iteration No: 20 started. Searching for the next optimal point.\n",
      "Iteration No: 20 ended. Search finished for the next optimal point.\n",
      "Time taken: 662.5064\n",
      "Function value obtained: -0.3600\n",
      "Current minimum: -0.4700\n",
      "Iteration No: 21 started. Searching for the next optimal point.\n",
      "Iteration No: 21 ended. Search finished for the next optimal point.\n",
      "Time taken: 1085.1702\n",
      "Function value obtained: -0.3800\n",
      "Current minimum: -0.4700\n",
      "Iteration No: 22 started. Searching for the next optimal point.\n",
      "Iteration No: 22 ended. Search finished for the next optimal point.\n",
      "Time taken: 1135.8078\n",
      "Function value obtained: -0.4600\n",
      "Current minimum: -0.4700\n",
      "Iteration No: 23 started. Searching for the next optimal point.\n",
      "The minimum for the objective function is 0.47\n",
      "The time actually spent for tuning 12954.445738077164 seconds\n"
     ]
    }
   ],
   "source": [
    "# Tuning\n",
    "# We run Bayesian Optimization with Gaussian Processes, which uses a Multidimensional Gaussian distribution as surrogate model.\n",
    "# The objective function is the negative of the the mean f1 score for 5-fold cross-validation\n",
    "# A threshold of 0.75 for the f1 score to stop the optimization is used\n",
    "# n_iter_search = number of iterations for the Bayesian Optimization\n",
    "# time_to_optimize = the budget time to optimize the Bayesian Optimization\n",
    "\n",
    "start = time.time()\n",
    "\n",
    "tuning_result = rfc_parameter_tuning(X_train, Y_train.reshape(Y_train.shape[0],),\n",
    "                                'multi-class classification',\n",
    "                                model_params, search_space,\n",
    "                                time_to_optimize=14400,\n",
    "                                n_calls=200,\n",
    "                                threshold=0.75, \n",
    "                                verbose=True,\n",
    "                                x_initial=x_initial,\n",
    "                                y_initial=y_initial,\n",
    "                                n_initial_points=5)\n",
    "\n",
    "end = time.time()\n",
    "\n",
    "best_params = {'model': {\n",
    "                    'RFC': {'params': {**tuning_result['best_params'], **model_params}\n",
    "                           }\n",
    "                        }\n",
    "              }\n",
    "\n",
    "# Saving the best parameters\n",
    "save_best_params('multi-class classification', best_params)\n",
    "\n",
    "print(f'The minimum for the objective function is {tuning_result[\"best_objective\"]}')\n",
    "print(f'The time actually spent for tuning {end - start} seconds')  "
   ]
  },
  {
   "cell_type": "code",
   "execution_count": 12,
   "id": "239af1f4",
   "metadata": {},
   "outputs": [
    {
     "data": {
      "image/png": "[encoded data removed]",
      "text/plain": [
       "<Figure size 1008x360 with 1 Axes>"
      ]
     },
     "metadata": {
      "needs_background": "light"
     },
     "output_type": "display_data"
    }
   ],
   "source": [
    "# Convergence drawing\n",
    "\n",
    "rfc_draw_convergence(tuning_result, 'multi-class classification')"
   ]
  },
  {
   "cell_type": "code",
   "execution_count": 13,
   "id": "3ca978b2",
   "metadata": {},
   "outputs": [
    {
     "name": "stderr",
     "output_type": "stream",
     "text": [
      "5-fold cross validation: 100%|██████████| 5/5 [18:28<00:00, 221.66s/it]\n"
     ]
    }
   ],
   "source": [
    "# cross-validation with the found hyperparameters\n",
    "\n",
    "path_pickle = os.path.join(os.getcwd(),\n",
    "                        os.pardir,os.pardir,\n",
    "                        'output', 'models',\n",
    "                        'multi-class classification'.replace(' ', '_'),\n",
    "                        'RFC_best_params.pkl')\n",
    "\n",
    "with open(path_pickle, 'rb') as inputfile:\n",
    "    best_params = pickle.load(inputfile)['model']['RFC']['params']\n",
    "\n",
    "# Y-randomization and cross-validation\n",
    "cv_result, classifier = performing_cross_validation('RFC', best_params,\n",
    "                                                    X_train, Y_train.reshape(Y_train.shape[0],),\n",
    "                                                    'multi-class classification',\n",
    "                                                    for_tuning=False, threshold=0.75,\n",
    "                                                    return_model=True)"
   ]
  },
  {
   "cell_type": "code",
   "execution_count": 14,
   "id": "4f847583",
   "metadata": {},
   "outputs": [
    {
     "data": {
      "text/html": [
       "<div>\n",
       "<style scoped>\n",
       "    .dataframe tbody tr th:only-of-type {\n",
       "        vertical-align: middle;\n",
       "    }\n",
       "\n",
       "    .dataframe tbody tr th {\n",
       "        vertical-align: top;\n",
       "    }\n",
       "\n",
       "    .dataframe thead th {\n",
       "        text-align: right;\n",
       "    }\n",
       "</style>\n",
       "<table border=\"1\" class=\"dataframe\">\n",
       "  <thead>\n",
       "    <tr style=\"text-align: right;\">\n",
       "      <th></th>\n",
       "      <th>mean_validation_accuracy</th>\n",
       "      <th>mean_train_accuracy</th>\n",
       "      <th>accuracy_analysis</th>\n",
       "      <th>mean_validation_f1</th>\n",
       "      <th>mean_train_f1</th>\n",
       "      <th>mean_validation_0_1_loss_or_error</th>\n",
       "      <th>std_validation_0_1_loss_or_error</th>\n",
       "    </tr>\n",
       "  </thead>\n",
       "  <tbody>\n",
       "    <tr>\n",
       "      <th>0</th>\n",
       "      <td>0.49</td>\n",
       "      <td>0.57</td>\n",
       "      <td>under-fitting (high bias and high variance)</td>\n",
       "      <td>0.46</td>\n",
       "      <td>0.55</td>\n",
       "      <td>0.51</td>\n",
       "      <td>0.001359</td>\n",
       "    </tr>\n",
       "  </tbody>\n",
       "</table>\n",
       "</div>"
      ],
      "text/plain": [
       "   mean_validation_accuracy  mean_train_accuracy  \\\n",
       "0                      0.49                 0.57   \n",
       "\n",
       "                             accuracy_analysis  mean_validation_f1  \\\n",
       "0  under-fitting (high bias and high variance)                0.46   \n",
       "\n",
       "   mean_train_f1  mean_validation_0_1_loss_or_error  \\\n",
       "0           0.55                               0.51   \n",
       "\n",
       "   std_validation_0_1_loss_or_error  \n",
       "0                          0.001359  "
      ]
     },
     "execution_count": 14,
     "metadata": {},
     "output_type": "execute_result"
    }
   ],
   "source": [
    "pd.DataFrame({key: [val] for key, val in cv_result.items()})"
   ]
  },
  {
   "cell_type": "code",
   "execution_count": 19,
   "id": "2838e6bc",
   "metadata": {},
   "outputs": [
    {
     "name": "stdout",
     "output_type": "stream",
     "text": [
      "Test accuracy is 0.29439092303339837\n",
      "Test f1 score is 0.24484238634542604\n"
     ]
    }
   ],
   "source": [
    "# External evaluation\n",
    "\n",
    "Y_test_hat = classifier.predict(X_test)\n",
    "\n",
    "print(f'Test accuracy is {prediction_evaluation(Y_test.reshape(Y_test.shape[0],), Y_test_hat)}')\n",
    "print(f'Test f1 score is {prediction_evaluation(Y_test.reshape(Y_test.shape[0],), Y_test_hat, metric=\"f1\")}')"
   ]
  },
  {
   "cell_type": "code",
   "execution_count": 15,
   "id": "10a3e03e",
   "metadata": {},
   "outputs": [
    {
     "data": {
      "image/png": "[encoded data removed]",
      "text/plain": [
       "<Figure size 1152x576 with 2 Axes>"
      ]
     },
     "metadata": {
      "needs_background": "light"
     },
     "output_type": "display_data"
    }
   ],
   "source": [
    "# Confusion matrix\n",
    "\n",
    "fig, ax = plt.subplots(figsize=(16,8))\n",
    "\n",
    "plot_confusion_matrix(classifier, X_test, Y_test, ax=ax, normalize='true',\n",
    "                    display_labels=['Surface impoundment', 'Destruction', 'Energy recovery',\n",
    "                                    'Landfill', 'Other disposal', 'Other treatment',\n",
    "                                    'Recycling', 'Storage', 'Underground injection', 'Sewerage'])\n",
    "\n",
    "# axis labels\n",
    "ax.set_ylabel('True label', fontsize=16, fontweight='bold', labelpad=20)\n",
    "ax.set_xlabel('Predicted label', fontsize=16, fontweight='bold', labelpad=20)\n",
    "plt.xticks(rotation=90)\n",
    "\n",
    "# Y ticks fontsize\n",
    "for tick in ax.xaxis.get_major_ticks():\n",
    "    tick.label.set_fontsize(14)\n",
    "\n",
    "# X ticks fontsize\n",
    "for tick in ax.yaxis.get_major_ticks():\n",
    "    tick.label.set_fontsize(14)\n",
    "\n",
    "# Save the plot\n",
    "path_plot = os.path.join(os.getcwd(),\n",
    "                        os.pardir, os.pardir,\n",
    "                        'output', 'figures',\n",
    "                        'multi-class classification'.replace(' ', '_'),\n",
    "                        'RFC_confusion_matrix.pdf')\n",
    "plt.savefig(path_plot, dpi=fig.dpi, bbox_inches='tight')"
   ]
  },
  {
   "cell_type": "markdown",
   "id": "4c22566b",
   "metadata": {},
   "source": [
    "The above figure shows that the RFC cannot find the decision boundary properly. It could be due to the fact that the labels are not mutually exclusive. For example, 21% of the labels actually for energy recovery are classified as destruction, and similarly, 30% of the labels that are actually destruction are misclassified as energy recovery. It is possible that the use of an ANNC model may not help to resolve the problem of mutually non exclusive labels."
   ]
  }
 ],
 "metadata": {
  "colab": {
   "name": "1-josedhernandez-RFC.ipynb",
   "provenance": []
  },
  "kernelspec": {
   "display_name": "Python 3",
   "language": "python",
   "name": "python3"
  },
  "language_info": {
   "codemirror_mode": {
    "name": "ipython",
    "version": 3
   },
   "file_extension": ".py",
   "mimetype": "text/x-python",
   "name": "python",
   "nbconvert_exporter": "python",
   "pygments_lexer": "ipython3",
   "version": "3.9.4"
  }
 },
 "nbformat": 4,
 "nbformat_minor": 5
}
