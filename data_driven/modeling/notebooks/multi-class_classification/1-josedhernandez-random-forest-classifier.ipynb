{
 "cells": [
  {
   "cell_type": "code",
   "execution_count": 1,
   "id": "5ad0cd50",
   "metadata": {},
   "outputs": [],
   "source": [
    "# Importing libraries\n",
    "import numpy as np\n",
    "from data_driven.modeling.scripts.evaluation import performing_cross_validation, y_randomization\n",
    "from pydrive.auth import GoogleAuth\n",
    "from pydrive.drive import GoogleDrive\n",
    "import os\n",
    "import pandas as pd"
   ]
  },
  {
   "cell_type": "markdown",
   "id": "b6487435",
   "metadata": {},
   "source": [
    "# 1. Accessing the data "
   ]
  },
  {
   "cell_type": "markdown",
   "id": "17dc750b",
   "metadata": {},
   "source": [
    "If you will use Google Drive, you have to enable Google Drive and obtain the client secrets file client_secrets.json (see the following [link](https://developers.google.com/drive/api/v3/enable-drive-api) or [this other](https://www.geeksforgeeks.org/get-list-of-files-and-folders-in-google-drive-storage-using-python/))"
   ]
  },
  {
   "cell_type": "code",
   "execution_count": 2,
   "id": "26bdae01",
   "metadata": {},
   "outputs": [
    {
     "name": "stdout",
     "output_type": "stream",
     "text": [
      "Your browser has been opened to visit:\n",
      "\n",
      "    https://accounts.google.com/o/oauth2/auth?client_id=128273080156-gak8id4v61mj7jjdqqucv74kc5volhj0.apps.googleusercontent.com&redirect_uri=http%3A%2F%2Flocalhost%3A8080%2F&scope=https%3A%2F%2Fwww.googleapis.com%2Fauth%2Fdrive&access_type=offline&response_type=code\n",
      "\n",
      "Authentication successful.\n"
     ]
    }
   ],
   "source": [
    "# Connecting to Google Drive\n",
    "\n",
    "## Specifying the path for the credentials\n",
    "credentials_file = os.path.join(os.getcwd(),\n",
    "                                os.pardir,\n",
    "                               'client_secrets.json')\n",
    "GoogleAuth.DEFAULT_SETTINGS['client_config_file'] = credentials_file\n",
    "GoogleAuth.DEFAULT_SETTINGS['oauth_scope'] = ['https://www.googleapis.com/auth/drive']\n",
    "\n",
    "\n",
    "# Authenticating\n",
    "gauth = GoogleAuth()\n",
    "gauth.LocalWebserverAuth() # client_secrets.json need to be in the same directory as the script\n",
    "drive = GoogleDrive(gauth)"
   ]
  },
  {
   "cell_type": "markdown",
   "id": "e0640d51",
   "metadata": {},
   "source": [
    "If you need to check the folder on where you have stored the data for running the multi-class classification algorithm, use the folder ID and the function just below"
   ]
  },
  {
   "cell_type": "code",
   "execution_count": 3,
   "id": "50a3dbf6",
   "metadata": {},
   "outputs": [],
   "source": [
    "def ListFolder(parent_id):\n",
    "    '''\n",
    "    Function to list the files in a Google Drive folder\n",
    "    \n",
    "    Input:\n",
    "    \n",
    "        - parent_id: string\n",
    "    \n",
    "    Output:\n",
    "    \n",
    "        - filelist: Python list with title of the files and their urls\n",
    "    \n",
    "    '''\n",
    "    \n",
    "    filelist=[]\n",
    "    file_list = drive.ListFile({'q': \"'%s' in parents and trashed=false\" % parent_id}).GetList()\n",
    "    \n",
    "    for f in file_list:\n",
    "        if f['mimeType']=='application/vnd.google-apps.folder': # if folder\n",
    "            filelist.append({\"id\":f['id'],\"title\":f['title'],\"list\":ListFolder(f['id'])})\n",
    "        else:\n",
    "            filelist.append({\"title\":f['title'],\"title1\":f['alternateLink']})\n",
    "            \n",
    "    return filelist"
   ]
  },
  {
   "cell_type": "code",
   "execution_count": 4,
   "id": "b0314e44",
   "metadata": {},
   "outputs": [
    {
     "data": {
      "text/plain": [
       "[{'title': '3.npz',\n",
       "  'title1': 'https://drive.google.com/file/d/18KrIiGmRn90uCNchktAWDPRa8wl2qKyO/view?usp=drivesdk'},\n",
       " {'title': '2.npz',\n",
       "  'title1': 'https://drive.google.com/file/d/1pAgEm3u5_spuniqBBfFta3EK2xPuLQc3/view?usp=drivesdk'},\n",
       " {'title': '1.npz',\n",
       "  'title1': 'https://drive.google.com/file/d/1bGA6Zuvez9weG0sZglM6nFpphSMjdl8D/view?usp=drivesdk'},\n",
       " {'title': '.gitkeep',\n",
       "  'title1': 'https://drive.google.com/file/d/1S2h6RPn7t_iIrcq-9KbaYWRfhpJuIW88/view?usp=drivesdk'}]"
      ]
     },
     "execution_count": 4,
     "metadata": {},
     "output_type": "execute_result"
    }
   ],
   "source": [
    "multi_class_data_folder_id = '1hoUT3WQxblQJWm-8v-9EKLJZ4614JVtI'\n",
    "ListFolder(multi_class_data_folder_id)"
   ]
  },
  {
   "cell_type": "markdown",
   "id": "7aa9cbb2",
   "metadata": {},
   "source": [
    "# 2. Building RFC with default parameters"
   ]
  },
  {
   "cell_type": "code",
   "execution_count": 5,
   "id": "e5365ad3",
   "metadata": {},
   "outputs": [],
   "source": [
    "ids = {1: '1bGA6Zuvez9weG0sZglM6nFpphSMjdl8D',\n",
    "       2: '1pAgEm3u5_spuniqBBfFta3EK2xPuLQc3',\n",
    "       3: '18KrIiGmRn90uCNchktAWDPRa8wl2qKyO'}"
   ]
  },
  {
   "cell_type": "code",
   "execution_count": 19,
   "id": "6b80c3fe",
   "metadata": {},
   "outputs": [],
   "source": [
    "def build_base_model(id, key):\n",
    "    '''\n",
    "    Function to test the RFC with default params\n",
    "    \n",
    "    Input:\n",
    "        - id: int = data processing id\n",
    "        - key: string = key or id for the file in Google Drive\n",
    "        \n",
    "    Output:\n",
    "        - df_result: dataframe = model evaluation under Y-randomization and cross-validation\n",
    "    '''\n",
    "        \n",
    "    # Getting the from Google Drive\n",
    "    f_data = drive.CreateFile({'id': key})\n",
    "    f_data.GetContentFile(f'{id}.npz')\n",
    "                             \n",
    "    # Loading the .npz for training\n",
    "    with np.load(f'{id}.npz') as data:\n",
    "        X_train=data['X_train']\n",
    "        Y_train=data['Y_train']\n",
    "        \n",
    "    # Checking the dimensions\n",
    "    print(f'X train has the following dimensions: {X_train.shape}')\n",
    "    print(f'Y train has the following dimensions: {Y_train.shape}')\n",
    "                               \n",
    "    # Default parameters\n",
    "    model_params = {\n",
    "        'bootstrap': True,\n",
    "        'ccp_alpha': 0.0,\n",
    "        'class_weight': 'balanced',\n",
    "        'criterion': 'gini',\n",
    "        'max_depth': None,\n",
    "        'max_features': 'sqrt',\n",
    "        'max_leaf_nodes': None,\n",
    "        'max_samples': None,\n",
    "        'min_impurity_decrease': 0.0,\n",
    "        'min_samples_leaf': 1,\n",
    "        'min_samples_split': 2,\n",
    "        'min_weight_fraction_leaf': 0.0,\n",
    "        'n_estimators': 100,\n",
    "        'n_jobs': 4,\n",
    "        'oob_score': False,\n",
    "        'random_state': 0,\n",
    "        'verbose': 0,\n",
    "        'warm_start': False,\n",
    "    }\n",
    "                               \n",
    "    # 5-fold cross-validation\n",
    "    cv_result = performing_cross_validation('RFC',\n",
    "                                           model_params,\n",
    "                                           X_train,\n",
    "                                           Y_train.reshape(Y_train.shape[0],),\n",
    "                                           'multi-class classification')\n",
    "    df_cv = pd.DataFrame({key: [val] for key, val in cv_result.items()})\n",
    "                               \n",
    "    # Y-randomization\n",
    "    y_randomization_error = y_randomization('RFC',\n",
    "                                       model_params,\n",
    "                                       X_train,\n",
    "                                       Y_train.reshape(Y_train.shape[0],),\n",
    "                                       'multi-class classification')\n",
    "    df_yr = pd.DataFrame({key: [val] for key, val in y_randomization_error.items()})\n",
    "                               \n",
    "    \n",
    "    df_result = pd.concat([df_cv, df_yr], axis=1)\n",
    "    df_result['id'] = id\n",
    "    \n",
    "    return df_result"
   ]
  },
  {
   "cell_type": "code",
   "execution_count": 20,
   "id": "8a8a3647",
   "metadata": {},
   "outputs": [
    {
     "name": "stdout",
     "output_type": "stream",
     "text": [
      "Evaluating base model for data preparation id 1\n",
      "X train has the following dimensions: (486440, 82)\n",
      "Y train has the following dimensions: (486440, 1)\n"
     ]
    },
    {
     "name": "stderr",
     "output_type": "stream",
     "text": [
      "5-fold cross validation: 100%|██████████| 5/5 [10:39<00:00, 127.97s/it]\n",
      "Y-Randomization: 100%|██████████| 10/10 [59:38<00:00, 357.87s/it]\n"
     ]
    },
    {
     "name": "stdout",
     "output_type": "stream",
     "text": [
      "Evaluating base model for data preparation id 2\n",
      "X train has the following dimensions: (486440, 83)\n",
      "Y train has the following dimensions: (486440, 1)\n"
     ]
    },
    {
     "name": "stderr",
     "output_type": "stream",
     "text": [
      "5-fold cross validation: 100%|██████████| 5/5 [02:28<00:00, 29.70s/it]\n",
      "Y-Randomization: 100%|██████████| 10/10 [07:30<00:00, 45.09s/it]\n"
     ]
    },
    {
     "name": "stdout",
     "output_type": "stream",
     "text": [
      "Evaluating base model for data preparation id 3\n",
      "X train has the following dimensions: (21530, 451)\n",
      "Y train has the following dimensions: (21530, 1)\n"
     ]
    },
    {
     "name": "stderr",
     "output_type": "stream",
     "text": [
      "5-fold cross validation: 100%|██████████| 5/5 [00:08<00:00,  1.70s/it]\n",
      "Y-Randomization: 100%|██████████| 10/10 [00:16<00:00,  1.68s/it]\n"
     ]
    },
    {
     "data": {
      "text/html": [
       "<div>\n",
       "<style scoped>\n",
       "    .dataframe tbody tr th:only-of-type {\n",
       "        vertical-align: middle;\n",
       "    }\n",
       "\n",
       "    .dataframe tbody tr th {\n",
       "        vertical-align: top;\n",
       "    }\n",
       "\n",
       "    .dataframe thead th {\n",
       "        text-align: right;\n",
       "    }\n",
       "</style>\n",
       "<table border=\"1\" class=\"dataframe\">\n",
       "  <thead>\n",
       "    <tr style=\"text-align: right;\">\n",
       "      <th></th>\n",
       "      <th>mean_validation_accuracy</th>\n",
       "      <th>mean_train_accuracy</th>\n",
       "      <th>accuracy_analysis</th>\n",
       "      <th>mean_validation_f1</th>\n",
       "      <th>mean_train_f1</th>\n",
       "      <th>mean_validation_0_1_loss_or_error</th>\n",
       "      <th>std_validation_0_1_loss_or_error</th>\n",
       "      <th>y_randomization_mean_0_1_loss_or_error</th>\n",
       "      <th>y_randomization_std_0_1_loss_or_error</th>\n",
       "      <th>id</th>\n",
       "    </tr>\n",
       "  </thead>\n",
       "  <tbody>\n",
       "    <tr>\n",
       "      <th>0</th>\n",
       "      <td>0.43</td>\n",
       "      <td>0.8</td>\n",
       "      <td>over-fitting (high variance)</td>\n",
       "      <td>0.43</td>\n",
       "      <td>0.8</td>\n",
       "      <td>0.57</td>\n",
       "      <td>0.004000</td>\n",
       "      <td>0.9</td>\n",
       "      <td>0.000000</td>\n",
       "      <td>1</td>\n",
       "    </tr>\n",
       "    <tr>\n",
       "      <th>1</th>\n",
       "      <td>0.45</td>\n",
       "      <td>0.8</td>\n",
       "      <td>over-fitting (high variance)</td>\n",
       "      <td>0.45</td>\n",
       "      <td>0.8</td>\n",
       "      <td>0.55</td>\n",
       "      <td>0.004000</td>\n",
       "      <td>0.9</td>\n",
       "      <td>0.000000</td>\n",
       "      <td>2</td>\n",
       "    </tr>\n",
       "    <tr>\n",
       "      <th>2</th>\n",
       "      <td>0.42</td>\n",
       "      <td>0.8</td>\n",
       "      <td>over-fitting (high variance)</td>\n",
       "      <td>0.42</td>\n",
       "      <td>0.8</td>\n",
       "      <td>0.58</td>\n",
       "      <td>0.007483</td>\n",
       "      <td>0.9</td>\n",
       "      <td>0.005385</td>\n",
       "      <td>3</td>\n",
       "    </tr>\n",
       "  </tbody>\n",
       "</table>\n",
       "</div>"
      ],
      "text/plain": [
       "   mean_validation_accuracy  mean_train_accuracy  \\\n",
       "0                      0.43                  0.8   \n",
       "1                      0.45                  0.8   \n",
       "2                      0.42                  0.8   \n",
       "\n",
       "              accuracy_analysis  mean_validation_f1  mean_train_f1  \\\n",
       "0  over-fitting (high variance)                0.43            0.8   \n",
       "1  over-fitting (high variance)                0.45            0.8   \n",
       "2  over-fitting (high variance)                0.42            0.8   \n",
       "\n",
       "   mean_validation_0_1_loss_or_error  std_validation_0_1_loss_or_error  \\\n",
       "0                               0.57                          0.004000   \n",
       "1                               0.55                          0.004000   \n",
       "2                               0.58                          0.007483   \n",
       "\n",
       "   y_randomization_mean_0_1_loss_or_error  \\\n",
       "0                                     0.9   \n",
       "1                                     0.9   \n",
       "2                                     0.9   \n",
       "\n",
       "   y_randomization_std_0_1_loss_or_error  id  \n",
       "0                               0.000000   1  \n",
       "1                               0.000000   2  \n",
       "2                               0.005385   3  "
      ]
     },
     "execution_count": 20,
     "metadata": {},
     "output_type": "execute_result"
    }
   ],
   "source": [
    "df_results = pd.DataFrame()\n",
    "\n",
    "for id, key in ids.items():\n",
    "    \n",
    "    print(f'Evaluating base model for data preparation id {id}')\n",
    "    \n",
    "    df_results = pd.concat([df_results, build_base_model(id, key)],\n",
    "                          axis=0,\n",
    "                          ignore_index=True)\n",
    "\n",
    "df_results"
   ]
  }
 ],
 "metadata": {
  "kernelspec": {
   "display_name": "Python 3",
   "language": "python",
   "name": "python3"
  },
  "language_info": {
   "codemirror_mode": {
    "name": "ipython",
    "version": 3
   },
   "file_extension": ".py",
   "mimetype": "text/x-python",
   "name": "python",
   "nbconvert_exporter": "python",
   "pygments_lexer": "ipython3",
   "version": "3.9.4"
  }
 },
 "nbformat": 4,
 "nbformat_minor": 5
}
