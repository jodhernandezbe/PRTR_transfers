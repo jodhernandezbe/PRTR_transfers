{
  "cells": [
    {
      "cell_type": "code",
      "execution_count": 1,
      "id": "5ad0cd50",
      "metadata": {
        "id": "5ad0cd50"
      },
      "outputs": [],
      "source": [
        "# Importing libraries\n",
        "from data_driven.modeling.scripts.evaluation import performing_cross_validation, y_randomization\n",
        "from data_driven.modeling.scripts.tuning import parameter_tuning\n",
        "\n",
        "import numpy as np\n",
        "from pydrive.auth import GoogleAuth\n",
        "from pydrive.drive import GoogleDrive\n",
        "import os\n",
        "import pandas as pd\n",
        "import re"
      ]
    },
    {
      "cell_type": "markdown",
      "id": "b6487435",
      "metadata": {
        "id": "b6487435"
      },
      "source": [
        "# 1. Accessing the data "
      ]
    },
    {
      "cell_type": "markdown",
      "id": "17dc750b",
      "metadata": {
        "id": "17dc750b"
      },
      "source": [
        "If you will use Google Drive, you have to enable Google Drive and obtain the client secrets file client_secrets.json (see the following [link](https://developers.google.com/drive/api/v3/enable-drive-api) or [this other](https://www.geeksforgeeks.org/get-list-of-files-and-folders-in-google-drive-storage-using-python/))"
      ]
    },
    {
      "cell_type": "code",
      "execution_count": 2,
      "id": "26bdae01",
      "metadata": {
        "id": "26bdae01",
        "outputId": "fe9ed690-e8d8-4bcd-94af-2e691bdd4646"
      },
      "outputs": [
        {
          "name": "stdout",
          "output_type": "stream",
          "text": [
            "Your browser has been opened to visit:\n",
            "\n",
            "    https://accounts.google.com/o/oauth2/auth?client_id=128273080156-gak8id4v61mj7jjdqqucv74kc5volhj0.apps.googleusercontent.com&redirect_uri=http%3A%2F%2Flocalhost%3A8080%2F&scope=https%3A%2F%2Fwww.googleapis.com%2Fauth%2Fdrive&access_type=offline&response_type=code\n",
            "\n",
            "Authentication successful.\n"
          ]
        }
      ],
      "source": [
        "# Connecting to Google Drive\n",
        "\n",
        "## Specifying the path for the credentials\n",
        "credentials_file = os.path.join(os.getcwd(),\n",
        "                                os.pardir,\n",
        "                               'client_secrets.json')\n",
        "GoogleAuth.DEFAULT_SETTINGS['client_config_file'] = credentials_file\n",
        "GoogleAuth.DEFAULT_SETTINGS['oauth_scope'] = ['https://www.googleapis.com/auth/drive']\n",
        "\n",
        "\n",
        "# Authenticating\n",
        "gauth = GoogleAuth()\n",
        "gauth.LocalWebserverAuth() # client_secrets.json need to be in the same directory as the script\n",
        "drive = GoogleDrive(gauth)"
      ]
    },
    {
      "cell_type": "markdown",
      "id": "e0640d51",
      "metadata": {
        "id": "e0640d51"
      },
      "source": [
        "If you need to check the folder on where you have stored the data for running the multi-class classification algorithm, use the folder ID and the function just below"
      ]
    },
    {
      "cell_type": "code",
      "execution_count": 3,
      "id": "50a3dbf6",
      "metadata": {
        "id": "50a3dbf6"
      },
      "outputs": [],
      "source": [
        "def ListFolder(parent_id):\n",
        "    '''\n",
        "    Function to list the files in a Google Drive folder\n",
        "    \n",
        "    Input:\n",
        "    \n",
        "        - parent_id: string\n",
        "    \n",
        "    Output:\n",
        "    \n",
        "        - filelist: Python list with title of the files and their urls\n",
        "    \n",
        "    '''\n",
        "    \n",
        "    filelist=[]\n",
        "    file_list = drive.ListFile({'q': \"'%s' in parents and trashed=false\" % parent_id}).GetList()\n",
        "    \n",
        "    for f in file_list:\n",
        "        if f['mimeType']=='application/vnd.google-apps.folder': # if folder\n",
        "            filelist.append({\"id\":f['id'],\"title\":f['title'],\"list\":ListFolder(f['id'])})\n",
        "        else:\n",
        "            filelist.append({\"title\":f['title'],\"title1\":f['alternateLink']})\n",
        "            \n",
        "    return filelist"
      ]
    },
    {
      "cell_type": "code",
      "execution_count": 4,
      "id": "b0314e44",
      "metadata": {
        "id": "b0314e44",
        "outputId": "1a62dc32-19c1-4c12-d04a-d727d88f5a48"
      },
      "outputs": [
        {
          "data": {
            "text/plain": [
              "[{'title': '3.npz',\n",
              "  'title1': 'https://drive.google.com/file/d/18KrIiGmRn90uCNchktAWDPRa8wl2qKyO/view?usp=drivesdk'},\n",
              " {'title': '2.npz',\n",
              "  'title1': 'https://drive.google.com/file/d/1pAgEm3u5_spuniqBBfFta3EK2xPuLQc3/view?usp=drivesdk'},\n",
              " {'title': '1.npz',\n",
              "  'title1': 'https://drive.google.com/file/d/1bGA6Zuvez9weG0sZglM6nFpphSMjdl8D/view?usp=drivesdk'},\n",
              " {'title': '.gitkeep',\n",
              "  'title1': 'https://drive.google.com/file/d/1S2h6RPn7t_iIrcq-9KbaYWRfhpJuIW88/view?usp=drivesdk'}]"
            ]
          },
          "execution_count": 4,
          "metadata": {},
          "output_type": "execute_result"
        }
      ],
      "source": [
        "# When you share a folder/file from Google Drive by using its shareable link you will see tomething like \n",
        "# https://drive.google.com/drive/folders/{ID_element}?usp=sharing. You can take the ID_element\n",
        "\n",
        "multi_class_data_folder_id = '1hoUT3WQxblQJWm-8v-9EKLJZ4614JVtI'\n",
        "ListFolder(multi_class_data_folder_id)"
      ]
    },
    {
      "cell_type": "code",
      "execution_count": 5,
      "id": "2b7760e1",
      "metadata": {
        "id": "2b7760e1"
      },
      "outputs": [],
      "source": [
        "ids = {re.search(r'([1-9]{1,2}).npz', file['title']).group(1):\n",
        "       re.search(r'https://.*/d/(.*)/view?.*', file['title1']).group(1)\n",
        "       for file in ListFolder(multi_class_data_folder_id)\n",
        "       if file['title'].endswith('.npz')}"
      ]
    },
    {
      "cell_type": "code",
      "execution_count": 6,
      "id": "ca9f35ca",
      "metadata": {
        "id": "ca9f35ca",
        "outputId": "e4de0412-0acc-45af-8f53-d932a030a40d"
      },
      "outputs": [
        {
          "data": {
            "text/plain": [
              "{'3': '18KrIiGmRn90uCNchktAWDPRa8wl2qKyO',\n",
              " '2': '1pAgEm3u5_spuniqBBfFta3EK2xPuLQc3',\n",
              " '1': '1bGA6Zuvez9weG0sZglM6nFpphSMjdl8D'}"
            ]
          },
          "execution_count": 6,
          "metadata": {},
          "output_type": "execute_result"
        }
      ],
      "source": [
        "ids"
      ]
    },
    {
      "cell_type": "code",
      "execution_count": 7,
      "id": "52962e48",
      "metadata": {
        "id": "52962e48"
      },
      "outputs": [],
      "source": [
        "def open_dataset(id, key, test=False):\n",
        "    '''\n",
        "    Function open the data sets:\n",
        "    \n",
        "    Input:\n",
        "        - id: string = data processing id\n",
        "        - key: string = key or id for the file in Google Drive\n",
        "        - test: boolean = if the test set is required\n",
        "        \n",
        "    Output:\n",
        "        - X_train, Y_train, X_test, Y_test: numpy arrays\n",
        "    '''\n",
        "    \n",
        "    # Getting the from Google Drive\n",
        "    f_data = drive.CreateFile({'id': key})\n",
        "    f_data.GetContentFile(f'{id}.npz')\n",
        "                             \n",
        "    # Loading the .npz for training\n",
        "    with np.load(f'{id}.npz') as data:\n",
        "        \n",
        "        X_train = data['X_train']\n",
        "        Y_train = data['Y_train']\n",
        "        # Checking the dimensions\n",
        "        print(f'X train has the following dimensions: {X_train.shape}')\n",
        "        print(f'Y train has the following dimensions: {Y_train.shape}')\n",
        "        \n",
        "        if test:\n",
        "            \n",
        "            X_test = data['X_test']\n",
        "            Y_test = data['Y_test']\n",
        "            \n",
        "            # Checking the dimensions\n",
        "            print(f'X test has the following dimensions: {X_test.shape}')\n",
        "            print(f'Y test has the following dimensions: {Y_test.shape}')\n",
        "            \n",
        "            os.remove(f'{id}.npz')\n",
        "            \n",
        "            return X_train, Y_train, X_test, Y_test\n",
        "        \n",
        "        os.remove(f'{id}.npz')\n",
        "        \n",
        "        return X_train, Y_train"
      ]
    },
    {
      "cell_type": "markdown",
      "id": "7aa9cbb2",
      "metadata": {
        "id": "7aa9cbb2"
      },
      "source": [
        "# 2. Building RFC with default parameters"
      ]
    },
    {
      "cell_type": "code",
      "execution_count": null,
      "id": "6b80c3fe",
      "metadata": {
        "id": "6b80c3fe"
      },
      "outputs": [],
      "source": [
        "def build_base_model(id, X_train, Y_train):\n",
        "    '''\n",
        "    Function to test the RFC with default params\n",
        "    \n",
        "    Input:\n",
        "        - id: string = data processing id\n",
        "        - X_train, Y_train: numpy arrays\n",
        "        \n",
        "    Output:\n",
        "        - df_result: dataframe = model evaluation under Y-randomization and cross-validation\n",
        "    '''\n",
        "                               \n",
        "    # Default parameters\n",
        "    model_params = {\n",
        "        'bootstrap': True,\n",
        "        'ccp_alpha': 0.0,\n",
        "        'class_weight': 'balanced',\n",
        "        'criterion': 'gini',\n",
        "        'max_depth': None,\n",
        "        'max_features': 'sqrt',\n",
        "        'max_leaf_nodes': None,\n",
        "        'max_samples': None,\n",
        "        'min_impurity_decrease': 0.0,\n",
        "        'min_samples_leaf': 1,\n",
        "        'min_samples_split': 2,\n",
        "        'min_weight_fraction_leaf': 0.0,\n",
        "        'n_estimators': 100,\n",
        "        'n_jobs': 4,\n",
        "        'oob_score': False,\n",
        "        'random_state': 0,\n",
        "        'verbose': 0,\n",
        "        'warm_start': False,\n",
        "    }\n",
        "                               \n",
        "    # 5-fold cross-validation\n",
        "    cv_result = performing_cross_validation('RFC',\n",
        "                                           model_params,\n",
        "                                           X_train,\n",
        "                                           Y_train.reshape(Y_train.shape[0],),\n",
        "                                           'multi-class classification')\n",
        "    df_cv = pd.DataFrame({key: [val] for key, val in cv_result.items()})\n",
        "                               \n",
        "    # Y-randomization\n",
        "    y_randomization_error = y_randomization('RFC',\n",
        "                                       model_params,\n",
        "                                       X_train,\n",
        "                                       Y_train.reshape(Y_train.shape[0],),\n",
        "                                       'multi-class classification')\n",
        "    df_yr = pd.DataFrame({key: [val] for key, val in y_randomization_error.items()})\n",
        "                               \n",
        "    \n",
        "    df_result = pd.concat([df_cv, df_yr], axis=1)\n",
        "    df_result['id'] = id\n",
        "    \n",
        "    return df_result"
      ]
    },
    {
      "cell_type": "code",
      "execution_count": null,
      "id": "8a8a3647",
      "metadata": {
        "id": "8a8a3647"
      },
      "outputs": [],
      "source": [
        "df_results = pd.DataFrame()\n",
        "\n",
        "for id, key in ids.items():\n",
        "    \n",
        "    print(f'Evaluating base model for data preparation id {id}\\n')\n",
        "    \n",
        "    # Opening the dataset\n",
        "    X_train, Y_train = open_dataset(id, key, test=False)\n",
        "    \n",
        "    # Y-randomization and cross-validation\n",
        "    df_results = pd.concat([df_results, build_base_model(id, X_train, Y_train)],\n",
        "                          axis=0,\n",
        "                          ignore_index=True)"
      ]
    },
    {
      "cell_type": "code",
      "execution_count": null,
      "id": "80ef77e8",
      "metadata": {
        "id": "80ef77e8"
      },
      "outputs": [],
      "source": [
        "df_results"
      ]
    },
    {
      "cell_type": "markdown",
      "id": "fd61b255",
      "metadata": {
        "id": "fd61b255"
      },
      "source": [
        "# 3. Selection of best data preprocessing\n",
        "\n",
        "As shown the above results, the default RFC presents overfitting for the three preprocessing pipelines. In addition, their performances are similar being the pipeline id 1 a little worse than the others. Nonenetheless, for Y randomization and cross validation the pipeline id 1 required around 3 minutes and 19 seconds. Tha means, that this pipeline would represent a less tuning and prediction time for future serving models.  "
      ]
    },
    {
      "cell_type": "markdown",
      "id": "835a8235",
      "metadata": {
        "id": "835a8235"
      },
      "source": [
        "# 4. Tuning the model"
      ]
    },
    {
      "cell_type": "code",
      "execution_count": 8,
      "id": "a5fde034",
      "metadata": {
        "id": "a5fde034",
        "outputId": "fc1891c1-0179-42c7-c626-040c94fb66ba"
      },
      "outputs": [
        {
          "name": "stdout",
          "output_type": "stream",
          "text": [
            "X train has the following dimensions: (59070, 62)\n",
            "Y train has the following dimensions: (59070, 1)\n",
            "X test has the following dimensions: (8465, 62)\n",
            "Y test has the following dimensions: (8465, 1)\n"
          ]
        }
      ],
      "source": [
        "# Opening the dataset\n",
        "X_train, Y_train, X_test, Y_test = open_dataset('1', '1bGA6Zuvez9weG0sZglM6nFpphSMjdl8D', test=True)"
      ]
    },
    {
      "cell_type": "code",
      "execution_count": 9,
      "id": "fedd4185",
      "metadata": {
        "id": "fedd4185"
      },
      "outputs": [],
      "source": [
        "# Default parameters\n",
        "model_params = {\n",
        "    'ccp_alpha': 0.0,\n",
        "    'class_weight': 'balanced',\n",
        "    'criterion': 'gini',\n",
        "    'max_leaf_nodes': None,\n",
        "    'max_samples': None,\n",
        "    'min_impurity_decrease': 0.0,\n",
        "    'min_weight_fraction_leaf': 0.0,\n",
        "    'n_jobs': 1,\n",
        "    'oob_score': False,\n",
        "    'random_state': 0,\n",
        "    'verbose': 0,\n",
        "    'warm_start': False,\n",
        "}\n",
        "\n",
        "# For tuning\n",
        "params_for_tuning = {'bootstrap':[True, False],\n",
        "        'min_samples_leaf': list(np.linspace(0.1, 0.5, 5)) + list(np.linspace(0.0001, 0.05, 5)),\n",
        "        'min_samples_split': list(np.linspace(0.1, 1.0, 5)) + list(np.linspace(0.0001, 0.05, 5)),\n",
        "        'max_features': ['log2', 'sqrt', None],\n",
        "        #'n_estimators': list(np.linspace(50, 1000, 5, dtype=int)) + [100],\n",
        "        'max_depth': list(np.linspace(5, 50, 5, dtype=int)) + [None]}"
      ]
    },
    {
      "cell_type": "code",
      "execution_count": 10,
      "id": "45372e5c",
      "metadata": {
        "id": "45372e5c",
        "outputId": "d873d0c0-11a7-4382-e3c6-9d68b5c28bcf"
      },
      "outputs": [
        {
          "name": "stderr",
          "output_type": "stream",
          "text": [
            "\u001b[2m\u001b[36m(_Trainable pid=425089)\u001b[0m 2022-02-05 14:06:28.138033: W tensorflow/stream_executor/platform/default/dso_loader.cc:64] Could not load dynamic library 'libcudart.so.11.0'; dlerror: libcudart.so.11.0: cannot open shared object file: No such file or directory\n",
            "\u001b[2m\u001b[36m(_Trainable pid=425089)\u001b[0m 2022-02-05 14:06:28.138067: I tensorflow/stream_executor/cuda/cudart_stub.cc:29] Ignore above cudart dlerror if you do not have a GPU set up on your machine.\n",
            "\u001b[2m\u001b[36m(_Trainable pid=425088)\u001b[0m 2022-02-05 14:06:28.273566: W tensorflow/stream_executor/platform/default/dso_loader.cc:64] Could not load dynamic library 'libcudart.so.11.0'; dlerror: libcudart.so.11.0: cannot open shared object file: No such file or directory\n",
            "\u001b[2m\u001b[36m(_Trainable pid=425088)\u001b[0m 2022-02-05 14:06:28.273598: I tensorflow/stream_executor/cuda/cudart_stub.cc:29] Ignore above cudart dlerror if you do not have a GPU set up on your machine.\n",
            "\u001b[2m\u001b[36m(_Trainable pid=425087)\u001b[0m 2022-02-05 14:06:28.334221: W tensorflow/stream_executor/platform/default/dso_loader.cc:64] Could not load dynamic library 'libcudart.so.11.0'; dlerror: libcudart.so.11.0: cannot open shared object file: No such file or directory\n",
            "\u001b[2m\u001b[36m(_Trainable pid=425087)\u001b[0m 2022-02-05 14:06:28.334251: I tensorflow/stream_executor/cuda/cudart_stub.cc:29] Ignore above cudart dlerror if you do not have a GPU set up on your machine.\n",
            "\u001b[2m\u001b[36m(_Trainable pid=425090)\u001b[0m 2022-02-05 14:06:28.503207: W tensorflow/stream_executor/platform/default/dso_loader.cc:64] Could not load dynamic library 'libcudart.so.11.0'; dlerror: libcudart.so.11.0: cannot open shared object file: No such file or directory\n",
            "\u001b[2m\u001b[36m(_Trainable pid=425090)\u001b[0m 2022-02-05 14:06:28.503244: I tensorflow/stream_executor/cuda/cudart_stub.cc:29] Ignore above cudart dlerror if you do not have a GPU set up on your machine.\n",
            "Trial _Trainable_6d86f9b0: Error processing event.\n"
          ]
        },
        {
          "ename": "RayTaskError(ValueError)",
          "evalue": "\u001b[36mray::_Trainable.train_buffered()\u001b[39m (pid=425089, ip=212.128.174.62, repr=<tune_sklearn._trainable._Trainable object at 0x7f4bda324f10>)\n  File \"/home/jodhernandezbe/anaconda3/envs/PRTR/lib/python3.9/site-packages/ray/tune/trainable.py\", line 255, in train_buffered\n    result = self.train()\n  File \"/home/jodhernandezbe/anaconda3/envs/PRTR/lib/python3.9/site-packages/ray/tune/trainable.py\", line 314, in train\n    result = self.step()\n  File \"/home/jodhernandezbe/anaconda3/envs/PRTR/lib/python3.9/site-packages/tune_sklearn/_trainable.py\", line 106, in step\n    return self._train()\n  File \"/home/jodhernandezbe/anaconda3/envs/PRTR/lib/python3.9/site-packages/tune_sklearn/_trainable.py\", line 196, in _train\n    self._early_stopping_ensemble(i, estimator, X_train,\n  File \"/home/jodhernandezbe/anaconda3/envs/PRTR/lib/python3.9/site-packages/tune_sklearn/_trainable.py\", line 153, in _early_stopping_ensemble\n    estimator.fit(X_train, y_train)\n  File \"/home/jodhernandezbe/anaconda3/envs/PRTR/lib/python3.9/site-packages/sklearn/ensemble/_forest.py\", line 384, in fit\n    self._validate_estimator()\n  File \"/home/jodhernandezbe/anaconda3/envs/PRTR/lib/python3.9/site-packages/sklearn/ensemble/_base.py\", line 138, in _validate_estimator\n    raise ValueError(\nValueError: n_estimators must be greater than zero, got 0.",
          "output_type": "error",
          "traceback": [
            "\u001b[0;31m---------------------------------------------------------------------------\u001b[0m",
            "\u001b[0;31mRayTaskError(ValueError)\u001b[0m                  Traceback (most recent call last)",
            "\u001b[1;32m/home/jodhernandezbe/Documents/PRTR_transfers/data_driven/modeling/notebooks/multi-class_classification/1-josedhernandez-RFC.ipynb Cell 19'\u001b[0m in \u001b[0;36m<module>\u001b[0;34m\u001b[0m\n\u001b[1;32m      <a href='vscode-notebook-cell:/home/jodhernandezbe/Documents/PRTR_transfers/data_driven/modeling/notebooks/multi-class_classification/1-josedhernandez-RFC.ipynb#ch0000018?line=0'>1</a>\u001b[0m \u001b[39m# Tuning\u001b[39;00m\n\u001b[0;32m----> <a href='vscode-notebook-cell:/home/jodhernandezbe/Documents/PRTR_transfers/data_driven/modeling/notebooks/multi-class_classification/1-josedhernandez-RFC.ipynb#ch0000018?line=1'>2</a>\u001b[0m tuning_result \u001b[39m=\u001b[39m parameter_tuning(X_train, Y_train\u001b[39m.\u001b[39;49mreshape(Y_train\u001b[39m.\u001b[39;49mshape[\u001b[39m0\u001b[39;49m],),\n\u001b[1;32m      <a href='vscode-notebook-cell:/home/jodhernandezbe/Documents/PRTR_transfers/data_driven/modeling/notebooks/multi-class_classification/1-josedhernandez-RFC.ipynb#ch0000018?line=2'>3</a>\u001b[0m                                              \u001b[39m'\u001b[39;49m\u001b[39mRFC\u001b[39;49m\u001b[39m'\u001b[39;49m, model_params,\n\u001b[1;32m      <a href='vscode-notebook-cell:/home/jodhernandezbe/Documents/PRTR_transfers/data_driven/modeling/notebooks/multi-class_classification/1-josedhernandez-RFC.ipynb#ch0000018?line=3'>4</a>\u001b[0m                                              params_for_tuning,\n\u001b[1;32m      <a href='vscode-notebook-cell:/home/jodhernandezbe/Documents/PRTR_transfers/data_driven/modeling/notebooks/multi-class_classification/1-josedhernandez-RFC.ipynb#ch0000018?line=4'>5</a>\u001b[0m                                              \u001b[39m'\u001b[39;49m\u001b[39mmulti-class classification\u001b[39;49m\u001b[39m'\u001b[39;49m)\n",
            "File \u001b[0;32m~/Documents/PRTR_transfers/data_driven/modeling/scripts/tuning.py:62\u001b[0m, in \u001b[0;36mparameter_tuning\u001b[0;34m(X, Y, model, model_params, params_for_tuning, classification_type)\u001b[0m\n\u001b[1;32m     <a href='file:///~/Documents/PRTR_transfers/data_driven/modeling/scripts/tuning.py?line=36'>37</a>\u001b[0m \u001b[39mif\u001b[39;00m model \u001b[39m==\u001b[39m\u001b[39m'\u001b[39m\u001b[39mRFC\u001b[39m\u001b[39m'\u001b[39m:\n\u001b[1;32m     <a href='file:///~/Documents/PRTR_transfers/data_driven/modeling/scripts/tuning.py?line=38'>39</a>\u001b[0m     search \u001b[39m=\u001b[39m TuneSearchCV(\n\u001b[1;32m     <a href='file:///~/Documents/PRTR_transfers/data_driven/modeling/scripts/tuning.py?line=39'>40</a>\u001b[0m                     defining_model(\u001b[39m'\u001b[39m\u001b[39mRFC\u001b[39m\u001b[39m'\u001b[39m, model_params),\n\u001b[1;32m     <a href='file:///~/Documents/PRTR_transfers/data_driven/modeling/scripts/tuning.py?line=40'>41</a>\u001b[0m                     params_for_tuning,\n\u001b[0;32m   (...)\u001b[0m\n\u001b[1;32m     <a href='file:///~/Documents/PRTR_transfers/data_driven/modeling/scripts/tuning.py?line=58'>59</a>\u001b[0m                                                 mode\u001b[39m=\u001b[39m\u001b[39m'\u001b[39m\u001b[39mmax\u001b[39m\u001b[39m'\u001b[39m)\n\u001b[1;32m     <a href='file:///~/Documents/PRTR_transfers/data_driven/modeling/scripts/tuning.py?line=59'>60</a>\u001b[0m     )\n\u001b[0;32m---> <a href='file:///~/Documents/PRTR_transfers/data_driven/modeling/scripts/tuning.py?line=61'>62</a>\u001b[0m     search\u001b[39m.\u001b[39;49mfit(X, Y)\n\u001b[1;32m     <a href='file:///~/Documents/PRTR_transfers/data_driven/modeling/scripts/tuning.py?line=63'>64</a>\u001b[0m     best_params \u001b[39m=\u001b[39m search\u001b[39m.\u001b[39mbest_params_\n\u001b[1;32m     <a href='file:///~/Documents/PRTR_transfers/data_driven/modeling/scripts/tuning.py?line=64'>65</a>\u001b[0m     best_estimator \u001b[39m=\u001b[39m search\u001b[39m.\u001b[39mbest_estimator_\n",
            "File \u001b[0;32m~/anaconda3/envs/PRTR/lib/python3.9/site-packages/tune_sklearn/tune_basesearch.py:665\u001b[0m, in \u001b[0;36mTuneBaseSearchCV.fit\u001b[0;34m(self, X, y, groups, tune_params, **fit_params)\u001b[0m\n\u001b[1;32m    <a href='file:///~/anaconda3/envs/PRTR/lib/python3.9/site-packages/tune_sklearn/tune_basesearch.py?line=662'>663</a>\u001b[0m     ray_kwargs[\u001b[39m\"\u001b[39m\u001b[39mlocal_mode\u001b[39m\u001b[39m\"\u001b[39m] \u001b[39m=\u001b[39m \u001b[39mTrue\u001b[39;00m\n\u001b[1;32m    <a href='file:///~/anaconda3/envs/PRTR/lib/python3.9/site-packages/tune_sklearn/tune_basesearch.py?line=663'>664</a>\u001b[0m \u001b[39mwith\u001b[39;00m ray_context(\u001b[39m*\u001b[39m\u001b[39m*\u001b[39mray_kwargs):\n\u001b[0;32m--> <a href='file:///~/anaconda3/envs/PRTR/lib/python3.9/site-packages/tune_sklearn/tune_basesearch.py?line=664'>665</a>\u001b[0m     \u001b[39mreturn\u001b[39;00m \u001b[39mself\u001b[39;49m\u001b[39m.\u001b[39;49m_fit(X, y, groups, tune_params, \u001b[39m*\u001b[39;49m\u001b[39m*\u001b[39;49mfit_params)\n",
            "File \u001b[0;32m~/anaconda3/envs/PRTR/lib/python3.9/site-packages/tune_sklearn/tune_basesearch.py:570\u001b[0m, in \u001b[0;36mTuneBaseSearchCV._fit\u001b[0;34m(self, X, y, groups, tune_params, **fit_params)\u001b[0m\n\u001b[1;32m    <a href='file:///~/anaconda3/envs/PRTR/lib/python3.9/site-packages/tune_sklearn/tune_basesearch.py?line=566'>567</a>\u001b[0m config[\u001b[39m\"\u001b[39m\u001b[39mmetric_name\u001b[39m\u001b[39m\"\u001b[39m] \u001b[39m=\u001b[39m \u001b[39mself\u001b[39m\u001b[39m.\u001b[39m_metric_name\n\u001b[1;32m    <a href='file:///~/anaconda3/envs/PRTR/lib/python3.9/site-packages/tune_sklearn/tune_basesearch.py?line=568'>569</a>\u001b[0m \u001b[39mself\u001b[39m\u001b[39m.\u001b[39m_fill_config_hyperparam(config)\n\u001b[0;32m--> <a href='file:///~/anaconda3/envs/PRTR/lib/python3.9/site-packages/tune_sklearn/tune_basesearch.py?line=569'>570</a>\u001b[0m analysis \u001b[39m=\u001b[39m \u001b[39mself\u001b[39;49m\u001b[39m.\u001b[39;49m_tune_run(config, resources_per_trial, tune_params)\n\u001b[1;32m    <a href='file:///~/anaconda3/envs/PRTR/lib/python3.9/site-packages/tune_sklearn/tune_basesearch.py?line=571'>572</a>\u001b[0m \u001b[39mself\u001b[39m\u001b[39m.\u001b[39mcv_results_ \u001b[39m=\u001b[39m \u001b[39mself\u001b[39m\u001b[39m.\u001b[39m_format_results(\u001b[39mself\u001b[39m\u001b[39m.\u001b[39mn_splits, analysis)\n\u001b[1;32m    <a href='file:///~/anaconda3/envs/PRTR/lib/python3.9/site-packages/tune_sklearn/tune_basesearch.py?line=573'>574</a>\u001b[0m metric \u001b[39m=\u001b[39m \u001b[39mself\u001b[39m\u001b[39m.\u001b[39m_metric_name\n",
            "File \u001b[0;32m~/anaconda3/envs/PRTR/lib/python3.9/site-packages/tune_sklearn/tune_search.py:782\u001b[0m, in \u001b[0;36mTuneSearchCV._tune_run\u001b[0;34m(self, config, resources_per_trial, tune_params)\u001b[0m\n\u001b[1;32m    <a href='file:///~/anaconda3/envs/PRTR/lib/python3.9/site-packages/tune_sklearn/tune_search.py?line=777'>778</a>\u001b[0m \u001b[39mwith\u001b[39;00m warnings\u001b[39m.\u001b[39mcatch_warnings():\n\u001b[1;32m    <a href='file:///~/anaconda3/envs/PRTR/lib/python3.9/site-packages/tune_sklearn/tune_search.py?line=778'>779</a>\u001b[0m     warnings\u001b[39m.\u001b[39mfilterwarnings(\n\u001b[1;32m    <a href='file:///~/anaconda3/envs/PRTR/lib/python3.9/site-packages/tune_sklearn/tune_search.py?line=779'>780</a>\u001b[0m         \u001b[39m\"\u001b[39m\u001b[39mignore\u001b[39m\u001b[39m\"\u001b[39m, message\u001b[39m=\u001b[39m\u001b[39m\"\u001b[39m\u001b[39mfail_fast=\u001b[39m\u001b[39m'\u001b[39m\u001b[39mraise\u001b[39m\u001b[39m'\u001b[39m\u001b[39m \u001b[39m\u001b[39m\"\u001b[39m\n\u001b[1;32m    <a href='file:///~/anaconda3/envs/PRTR/lib/python3.9/site-packages/tune_sklearn/tune_search.py?line=780'>781</a>\u001b[0m         \u001b[39m\"\u001b[39m\u001b[39mdetected.\u001b[39m\u001b[39m\"\u001b[39m)\n\u001b[0;32m--> <a href='file:///~/anaconda3/envs/PRTR/lib/python3.9/site-packages/tune_sklearn/tune_search.py?line=781'>782</a>\u001b[0m     analysis \u001b[39m=\u001b[39m tune\u001b[39m.\u001b[39;49mrun(trainable, \u001b[39m*\u001b[39;49m\u001b[39m*\u001b[39;49mrun_args)\n\u001b[1;32m    <a href='file:///~/anaconda3/envs/PRTR/lib/python3.9/site-packages/tune_sklearn/tune_search.py?line=782'>783</a>\u001b[0m \u001b[39mreturn\u001b[39;00m analysis\n",
            "File \u001b[0;32m~/anaconda3/envs/PRTR/lib/python3.9/site-packages/ray/tune/tune.py:597\u001b[0m, in \u001b[0;36mrun\u001b[0;34m(run_or_experiment, name, metric, mode, stop, time_budget_s, config, resources_per_trial, num_samples, local_dir, search_alg, scheduler, keep_checkpoints_num, checkpoint_score_attr, checkpoint_freq, checkpoint_at_end, verbose, progress_reporter, log_to_file, trial_name_creator, trial_dirname_creator, sync_config, export_formats, max_failures, fail_fast, restore, server_port, resume, reuse_actors, trial_executor, raise_on_failed_trial, callbacks, max_concurrent_trials, queue_trials, loggers, _remote)\u001b[0m\n\u001b[1;32m    <a href='file:///~/anaconda3/envs/PRTR/lib/python3.9/site-packages/ray/tune/tune.py?line=594'>595</a>\u001b[0m progress_reporter\u001b[39m.\u001b[39mset_start_time(tune_start)\n\u001b[1;32m    <a href='file:///~/anaconda3/envs/PRTR/lib/python3.9/site-packages/ray/tune/tune.py?line=595'>596</a>\u001b[0m \u001b[39mwhile\u001b[39;00m \u001b[39mnot\u001b[39;00m runner\u001b[39m.\u001b[39mis_finished() \u001b[39mand\u001b[39;00m \u001b[39mnot\u001b[39;00m state[signal\u001b[39m.\u001b[39mSIGINT]:\n\u001b[0;32m--> <a href='file:///~/anaconda3/envs/PRTR/lib/python3.9/site-packages/ray/tune/tune.py?line=596'>597</a>\u001b[0m     runner\u001b[39m.\u001b[39;49mstep()\n\u001b[1;32m    <a href='file:///~/anaconda3/envs/PRTR/lib/python3.9/site-packages/ray/tune/tune.py?line=597'>598</a>\u001b[0m     \u001b[39mif\u001b[39;00m has_verbosity(Verbosity\u001b[39m.\u001b[39mV1_EXPERIMENT):\n\u001b[1;32m    <a href='file:///~/anaconda3/envs/PRTR/lib/python3.9/site-packages/ray/tune/tune.py?line=598'>599</a>\u001b[0m         _report_progress(runner, progress_reporter)\n",
            "File \u001b[0;32m~/anaconda3/envs/PRTR/lib/python3.9/site-packages/ray/tune/trial_runner.py:739\u001b[0m, in \u001b[0;36mTrialRunner.step\u001b[0;34m(self)\u001b[0m\n\u001b[1;32m    <a href='file:///~/anaconda3/envs/PRTR/lib/python3.9/site-packages/ray/tune/trial_runner.py?line=736'>737</a>\u001b[0m     \u001b[39mif\u001b[39;00m \u001b[39mself\u001b[39m\u001b[39m.\u001b[39mtrial_executor\u001b[39m.\u001b[39min_staging_grace_period():\n\u001b[1;32m    <a href='file:///~/anaconda3/envs/PRTR/lib/python3.9/site-packages/ray/tune/trial_runner.py?line=737'>738</a>\u001b[0m         timeout \u001b[39m=\u001b[39m \u001b[39m0.1\u001b[39m\n\u001b[0;32m--> <a href='file:///~/anaconda3/envs/PRTR/lib/python3.9/site-packages/ray/tune/trial_runner.py?line=738'>739</a>\u001b[0m     \u001b[39mself\u001b[39;49m\u001b[39m.\u001b[39;49m_process_events(timeout\u001b[39m=\u001b[39;49mtimeout)\n\u001b[1;32m    <a href='file:///~/anaconda3/envs/PRTR/lib/python3.9/site-packages/ray/tune/trial_runner.py?line=739'>740</a>\u001b[0m \u001b[39melse\u001b[39;00m:\n\u001b[1;32m    <a href='file:///~/anaconda3/envs/PRTR/lib/python3.9/site-packages/ray/tune/trial_runner.py?line=740'>741</a>\u001b[0m     \u001b[39mself\u001b[39m\u001b[39m.\u001b[39m_run_and_catch(\u001b[39mself\u001b[39m\u001b[39m.\u001b[39mtrial_executor\u001b[39m.\u001b[39mon_no_available_trials)\n",
            "File \u001b[0;32m~/anaconda3/envs/PRTR/lib/python3.9/site-packages/ray/tune/trial_runner.py:897\u001b[0m, in \u001b[0;36mTrialRunner._process_events\u001b[0;34m(self, timeout)\u001b[0m\n\u001b[1;32m    <a href='file:///~/anaconda3/envs/PRTR/lib/python3.9/site-packages/ray/tune/trial_runner.py?line=894'>895</a>\u001b[0m \u001b[39melse\u001b[39;00m:\n\u001b[1;32m    <a href='file:///~/anaconda3/envs/PRTR/lib/python3.9/site-packages/ray/tune/trial_runner.py?line=895'>896</a>\u001b[0m     \u001b[39mwith\u001b[39;00m warn_if_slow(\u001b[39m\"\u001b[39m\u001b[39mprocess_trial\u001b[39m\u001b[39m\"\u001b[39m):\n\u001b[0;32m--> <a href='file:///~/anaconda3/envs/PRTR/lib/python3.9/site-packages/ray/tune/trial_runner.py?line=896'>897</a>\u001b[0m         \u001b[39mself\u001b[39;49m\u001b[39m.\u001b[39;49m_process_trial(trial)\n\u001b[1;32m    <a href='file:///~/anaconda3/envs/PRTR/lib/python3.9/site-packages/ray/tune/trial_runner.py?line=898'>899</a>\u001b[0m \u001b[39m# `self._queued_trial_decisions` now contains a final decision\u001b[39;00m\n\u001b[1;32m    <a href='file:///~/anaconda3/envs/PRTR/lib/python3.9/site-packages/ray/tune/trial_runner.py?line=899'>900</a>\u001b[0m \u001b[39m# based on all results\u001b[39;00m\n\u001b[1;32m    <a href='file:///~/anaconda3/envs/PRTR/lib/python3.9/site-packages/ray/tune/trial_runner.py?line=900'>901</a>\u001b[0m \u001b[39mif\u001b[39;00m trial \u001b[39mnot\u001b[39;00m \u001b[39min\u001b[39;00m \u001b[39mself\u001b[39m\u001b[39m.\u001b[39m_cached_trial_decisions:\n",
            "File \u001b[0;32m~/anaconda3/envs/PRTR/lib/python3.9/site-packages/ray/tune/trial_runner.py:924\u001b[0m, in \u001b[0;36mTrialRunner._process_trial\u001b[0;34m(self, trial)\u001b[0m\n\u001b[1;32m    <a href='file:///~/anaconda3/envs/PRTR/lib/python3.9/site-packages/ray/tune/trial_runner.py?line=907'>908</a>\u001b[0m \u001b[39m\"\"\"Processes a trial result.\u001b[39;00m\n\u001b[1;32m    <a href='file:///~/anaconda3/envs/PRTR/lib/python3.9/site-packages/ray/tune/trial_runner.py?line=908'>909</a>\u001b[0m \n\u001b[1;32m    <a href='file:///~/anaconda3/envs/PRTR/lib/python3.9/site-packages/ray/tune/trial_runner.py?line=909'>910</a>\u001b[0m \u001b[39mFetches the trial's latest result and makes a scheduling decision\u001b[39;00m\n\u001b[0;32m   (...)\u001b[0m\n\u001b[1;32m    <a href='file:///~/anaconda3/envs/PRTR/lib/python3.9/site-packages/ray/tune/trial_runner.py?line=920'>921</a>\u001b[0m \u001b[39m    trial (Trial): Trial with a result ready to be processed.\u001b[39;00m\n\u001b[1;32m    <a href='file:///~/anaconda3/envs/PRTR/lib/python3.9/site-packages/ray/tune/trial_runner.py?line=921'>922</a>\u001b[0m \u001b[39m\"\"\"\u001b[39;00m\n\u001b[1;32m    <a href='file:///~/anaconda3/envs/PRTR/lib/python3.9/site-packages/ray/tune/trial_runner.py?line=922'>923</a>\u001b[0m \u001b[39mtry\u001b[39;00m:\n\u001b[0;32m--> <a href='file:///~/anaconda3/envs/PRTR/lib/python3.9/site-packages/ray/tune/trial_runner.py?line=923'>924</a>\u001b[0m     results \u001b[39m=\u001b[39m \u001b[39mself\u001b[39;49m\u001b[39m.\u001b[39;49mtrial_executor\u001b[39m.\u001b[39;49mfetch_result(trial)\n\u001b[1;32m    <a href='file:///~/anaconda3/envs/PRTR/lib/python3.9/site-packages/ray/tune/trial_runner.py?line=924'>925</a>\u001b[0m     \u001b[39mwith\u001b[39;00m warn_if_slow(\n\u001b[1;32m    <a href='file:///~/anaconda3/envs/PRTR/lib/python3.9/site-packages/ray/tune/trial_runner.py?line=925'>926</a>\u001b[0m             \u001b[39m\"\u001b[39m\u001b[39mprocess_trial_results\u001b[39m\u001b[39m\"\u001b[39m,\n\u001b[1;32m    <a href='file:///~/anaconda3/envs/PRTR/lib/python3.9/site-packages/ray/tune/trial_runner.py?line=926'>927</a>\u001b[0m             message\u001b[39m=\u001b[39m\u001b[39m\"\u001b[39m\u001b[39mProcessing trial results took \u001b[39m\u001b[39m{duration:.3f}\u001b[39;00m\u001b[39m s, \u001b[39m\u001b[39m\"\u001b[39m\n\u001b[1;32m    <a href='file:///~/anaconda3/envs/PRTR/lib/python3.9/site-packages/ray/tune/trial_runner.py?line=927'>928</a>\u001b[0m             \u001b[39m\"\u001b[39m\u001b[39mwhich may be a performance bottleneck. Please consider \u001b[39m\u001b[39m\"\u001b[39m\n\u001b[1;32m    <a href='file:///~/anaconda3/envs/PRTR/lib/python3.9/site-packages/ray/tune/trial_runner.py?line=928'>929</a>\u001b[0m             \u001b[39m\"\u001b[39m\u001b[39mreporting results less frequently to Ray Tune.\u001b[39m\u001b[39m\"\u001b[39m):\n\u001b[1;32m    <a href='file:///~/anaconda3/envs/PRTR/lib/python3.9/site-packages/ray/tune/trial_runner.py?line=929'>930</a>\u001b[0m         \u001b[39mfor\u001b[39;00m i, result \u001b[39min\u001b[39;00m \u001b[39menumerate\u001b[39m(results):\n",
            "File \u001b[0;32m~/anaconda3/envs/PRTR/lib/python3.9/site-packages/ray/tune/ray_trial_executor.py:787\u001b[0m, in \u001b[0;36mRayTrialExecutor.fetch_result\u001b[0;34m(self, trial)\u001b[0m\n\u001b[1;32m    <a href='file:///~/anaconda3/envs/PRTR/lib/python3.9/site-packages/ray/tune/ray_trial_executor.py?line=784'>785</a>\u001b[0m \u001b[39mself\u001b[39m\u001b[39m.\u001b[39m_running\u001b[39m.\u001b[39mpop(trial_future[\u001b[39m0\u001b[39m])\n\u001b[1;32m    <a href='file:///~/anaconda3/envs/PRTR/lib/python3.9/site-packages/ray/tune/ray_trial_executor.py?line=785'>786</a>\u001b[0m \u001b[39mwith\u001b[39;00m warn_if_slow(\u001b[39m\"\u001b[39m\u001b[39mfetch_result\u001b[39m\u001b[39m\"\u001b[39m):\n\u001b[0;32m--> <a href='file:///~/anaconda3/envs/PRTR/lib/python3.9/site-packages/ray/tune/ray_trial_executor.py?line=786'>787</a>\u001b[0m     result \u001b[39m=\u001b[39m ray\u001b[39m.\u001b[39;49mget(trial_future[\u001b[39m0\u001b[39;49m], timeout\u001b[39m=\u001b[39;49mDEFAULT_GET_TIMEOUT)\n\u001b[1;32m    <a href='file:///~/anaconda3/envs/PRTR/lib/python3.9/site-packages/ray/tune/ray_trial_executor.py?line=788'>789</a>\u001b[0m \u001b[39m# For local mode\u001b[39;00m\n\u001b[1;32m    <a href='file:///~/anaconda3/envs/PRTR/lib/python3.9/site-packages/ray/tune/ray_trial_executor.py?line=789'>790</a>\u001b[0m \u001b[39mif\u001b[39;00m \u001b[39misinstance\u001b[39m(result, _LocalWrapper):\n",
            "File \u001b[0;32m~/anaconda3/envs/PRTR/lib/python3.9/site-packages/ray/_private/client_mode_hook.py:105\u001b[0m, in \u001b[0;36mclient_mode_hook.<locals>.wrapper\u001b[0;34m(*args, **kwargs)\u001b[0m\n\u001b[1;32m    <a href='file:///~/anaconda3/envs/PRTR/lib/python3.9/site-packages/ray/_private/client_mode_hook.py?line=102'>103</a>\u001b[0m     \u001b[39mif\u001b[39;00m func\u001b[39m.\u001b[39m\u001b[39m__name__\u001b[39m \u001b[39m!=\u001b[39m \u001b[39m\"\u001b[39m\u001b[39minit\u001b[39m\u001b[39m\"\u001b[39m \u001b[39mor\u001b[39;00m is_client_mode_enabled_by_default:\n\u001b[1;32m    <a href='file:///~/anaconda3/envs/PRTR/lib/python3.9/site-packages/ray/_private/client_mode_hook.py?line=103'>104</a>\u001b[0m         \u001b[39mreturn\u001b[39;00m \u001b[39mgetattr\u001b[39m(ray, func\u001b[39m.\u001b[39m\u001b[39m__name__\u001b[39m)(\u001b[39m*\u001b[39margs, \u001b[39m*\u001b[39m\u001b[39m*\u001b[39mkwargs)\n\u001b[0;32m--> <a href='file:///~/anaconda3/envs/PRTR/lib/python3.9/site-packages/ray/_private/client_mode_hook.py?line=104'>105</a>\u001b[0m \u001b[39mreturn\u001b[39;00m func(\u001b[39m*\u001b[39;49margs, \u001b[39m*\u001b[39;49m\u001b[39m*\u001b[39;49mkwargs)\n",
            "File \u001b[0;32m~/anaconda3/envs/PRTR/lib/python3.9/site-packages/ray/worker.py:1713\u001b[0m, in \u001b[0;36mget\u001b[0;34m(object_refs, timeout)\u001b[0m\n\u001b[1;32m   <a href='file:///~/anaconda3/envs/PRTR/lib/python3.9/site-packages/ray/worker.py?line=1710'>1711</a>\u001b[0m     worker\u001b[39m.\u001b[39mcore_worker\u001b[39m.\u001b[39mdump_object_store_memory_usage()\n\u001b[1;32m   <a href='file:///~/anaconda3/envs/PRTR/lib/python3.9/site-packages/ray/worker.py?line=1711'>1712</a>\u001b[0m \u001b[39mif\u001b[39;00m \u001b[39misinstance\u001b[39m(value, RayTaskError):\n\u001b[0;32m-> <a href='file:///~/anaconda3/envs/PRTR/lib/python3.9/site-packages/ray/worker.py?line=1712'>1713</a>\u001b[0m     \u001b[39mraise\u001b[39;00m value\u001b[39m.\u001b[39mas_instanceof_cause()\n\u001b[1;32m   <a href='file:///~/anaconda3/envs/PRTR/lib/python3.9/site-packages/ray/worker.py?line=1713'>1714</a>\u001b[0m \u001b[39melse\u001b[39;00m:\n\u001b[1;32m   <a href='file:///~/anaconda3/envs/PRTR/lib/python3.9/site-packages/ray/worker.py?line=1714'>1715</a>\u001b[0m     \u001b[39mraise\u001b[39;00m value\n",
            "\u001b[0;31mRayTaskError(ValueError)\u001b[0m: \u001b[36mray::_Trainable.train_buffered()\u001b[39m (pid=425089, ip=212.128.174.62, repr=<tune_sklearn._trainable._Trainable object at 0x7f4bda324f10>)\n  File \"/home/jodhernandezbe/anaconda3/envs/PRTR/lib/python3.9/site-packages/ray/tune/trainable.py\", line 255, in train_buffered\n    result = self.train()\n  File \"/home/jodhernandezbe/anaconda3/envs/PRTR/lib/python3.9/site-packages/ray/tune/trainable.py\", line 314, in train\n    result = self.step()\n  File \"/home/jodhernandezbe/anaconda3/envs/PRTR/lib/python3.9/site-packages/tune_sklearn/_trainable.py\", line 106, in step\n    return self._train()\n  File \"/home/jodhernandezbe/anaconda3/envs/PRTR/lib/python3.9/site-packages/tune_sklearn/_trainable.py\", line 196, in _train\n    self._early_stopping_ensemble(i, estimator, X_train,\n  File \"/home/jodhernandezbe/anaconda3/envs/PRTR/lib/python3.9/site-packages/tune_sklearn/_trainable.py\", line 153, in _early_stopping_ensemble\n    estimator.fit(X_train, y_train)\n  File \"/home/jodhernandezbe/anaconda3/envs/PRTR/lib/python3.9/site-packages/sklearn/ensemble/_forest.py\", line 384, in fit\n    self._validate_estimator()\n  File \"/home/jodhernandezbe/anaconda3/envs/PRTR/lib/python3.9/site-packages/sklearn/ensemble/_base.py\", line 138, in _validate_estimator\n    raise ValueError(\nValueError: n_estimators must be greater than zero, got 0."
          ]
        }
      ],
      "source": [
        "# Tuning\n",
        "tuning_result = parameter_tuning(X_train, Y_train.reshape(Y_train.shape[0],),\n",
        "                                             'RFC', model_params,\n",
        "                                             params_for_tuning,\n",
        "                                             'multi-class classification')"
      ]
    },
    {
      "cell_type": "code",
      "execution_count": 20,
      "id": "3d7bbd4c",
      "metadata": {
        "id": "3d7bbd4c"
      },
      "outputs": [
        {
          "data": {
            "text/plain": [
              "{'best_params': {'bootstrap': False,\n",
              "  'min_samples_leaf': 0.0001,\n",
              "  'min_samples_split': 0.012575,\n",
              "  'max_features': None,\n",
              "  'max_depth': None,\n",
              "  'n_estimators': 100},\n",
              " 'best_estimator': RandomForestClassifier(bootstrap=False, class_weight='balanced',\n",
              "                        max_features=None, min_samples_leaf=0.0001,\n",
              "                        min_samples_split=0.012575, n_jobs=1, random_state=0),\n",
              " 'best_score': 0.34259353309632645}"
            ]
          },
          "execution_count": 20,
          "metadata": {},
          "output_type": "execute_result"
        }
      ],
      "source": [
        "tuning_result"
      ]
    }
  ],
  "metadata": {
    "colab": {
      "name": "1-josedhernandez-RFC.ipynb",
      "provenance": []
    },
    "kernelspec": {
      "display_name": "Python 3",
      "language": "python",
      "name": "python3"
    },
    "language_info": {
      "codemirror_mode": {
        "name": "ipython",
        "version": 3
      },
      "file_extension": ".py",
      "mimetype": "text/x-python",
      "name": "python",
      "nbconvert_exporter": "python",
      "pygments_lexer": "ipython3",
      "version": "3.9.4"
    }
  },
  "nbformat": 4,
  "nbformat_minor": 5
}
