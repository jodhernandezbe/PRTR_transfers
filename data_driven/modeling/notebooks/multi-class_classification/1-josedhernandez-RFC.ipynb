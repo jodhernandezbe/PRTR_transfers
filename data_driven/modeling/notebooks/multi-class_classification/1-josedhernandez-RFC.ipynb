{
 "cells": [
  {
   "cell_type": "code",
   "execution_count": 9,
   "id": "5ad0cd50",
   "metadata": {
    "id": "5ad0cd50"
   },
   "outputs": [],
   "source": [
    "# Importing libraries\n",
    "from data_driven.modeling.scripts.tuning import parameter_tuning\n",
    "from data_driven.modeling.scripts.ancillary import (drive_authentication, npz_files, open_dataset,\n",
    "                                                    build_base_model, save_best_params)\n",
    "\n",
    "from skopt.space import Integer, Categorical\n",
    "from skopt.plots import plot_convergence\n",
    "import pandas as pd\n",
    "%matplotlib inline\n",
    "import matplotlib.pyplot as plt\n",
    "import time"
   ]
  },
  {
   "cell_type": "markdown",
   "id": "b6487435",
   "metadata": {
    "id": "b6487435"
   },
   "source": [
    "# 1. Accessing the data "
   ]
  },
  {
   "cell_type": "markdown",
   "id": "17dc750b",
   "metadata": {
    "id": "17dc750b"
   },
   "source": [
    "If you will use Google Drive, you have to enable Google Drive and obtain the client secrets file client_secrets.json (see the following [link](https://developers.google.com/drive/api/v3/enable-drive-api) or [this other](https://www.geeksforgeeks.org/get-list-of-files-and-folders-in-google-drive-storage-using-python/))"
   ]
  },
  {
   "cell_type": "code",
   "execution_count": 2,
   "id": "26bdae01",
   "metadata": {
    "id": "26bdae01",
    "outputId": "fe9ed690-e8d8-4bcd-94af-2e691bdd4646"
   },
   "outputs": [
    {
     "name": "stdout",
     "output_type": "stream",
     "text": [
      "Your browser has been opened to visit:\n",
      "\n",
      "    https://accounts.google.com/o/oauth2/auth?client_id=128273080156-gak8id4v61mj7jjdqqucv74kc5volhj0.apps.googleusercontent.com&redirect_uri=http%3A%2F%2Flocalhost%3A8080%2F&scope=https%3A%2F%2Fwww.googleapis.com%2Fauth%2Fdrive&access_type=offline&response_type=code\n",
      "\n",
      "Authentication successful.\n"
     ]
    }
   ],
   "source": [
    "# Connecting to Google Drive\n",
    "# client_secrets.json need to be in the same directory as the script\n",
    "\n",
    "drive = drive_authentication()"
   ]
  },
  {
   "cell_type": "markdown",
   "id": "e0640d51",
   "metadata": {
    "id": "e0640d51"
   },
   "source": [
    "If you need to check the folder on where you have stored the data for running the multi-class classification algorithm, use the folder ID and the function just below"
   ]
  },
  {
   "cell_type": "code",
   "execution_count": 3,
   "id": "b0314e44",
   "metadata": {
    "id": "b0314e44",
    "outputId": "1a62dc32-19c1-4c12-d04a-d727d88f5a48"
   },
   "outputs": [
    {
     "data": {
      "text/plain": [
       "{'3': '18KrIiGmRn90uCNchktAWDPRa8wl2qKyO',\n",
       " '2': '1pAgEm3u5_spuniqBBfFta3EK2xPuLQc3',\n",
       " '1': '1bGA6Zuvez9weG0sZglM6nFpphSMjdl8D'}"
      ]
     },
     "execution_count": 3,
     "metadata": {},
     "output_type": "execute_result"
    }
   ],
   "source": [
    "# When you share a folder/file from Google Drive by using its shareable link you will see tomething like \n",
    "# https://drive.google.com/drive/folders/{ID_element}?usp=sharing. You can take the ID_element\n",
    "\n",
    "multi_class_data_folder_id = '1hoUT3WQxblQJWm-8v-9EKLJZ4614JVtI'\n",
    "ids = npz_files(multi_class_data_folder_id, drive)\n",
    "ids"
   ]
  },
  {
   "cell_type": "markdown",
   "id": "7aa9cbb2",
   "metadata": {
    "id": "7aa9cbb2"
   },
   "source": [
    "# 2. Building RFC with default parameters"
   ]
  },
  {
   "cell_type": "code",
   "execution_count": 4,
   "id": "19827af6",
   "metadata": {},
   "outputs": [],
   "source": [
    "# Default parameters\n",
    "model_params = {\n",
    "    'bootstrap': True,\n",
    "    'ccp_alpha': 0.0,\n",
    "    'class_weight': 'balanced',\n",
    "    'criterion': 'gini',\n",
    "    'max_depth': None,\n",
    "    'max_features': 'sqrt',\n",
    "    'max_leaf_nodes': None,\n",
    "    'max_samples': None,\n",
    "    'min_impurity_decrease': 0.0,\n",
    "    'min_samples_leaf': 1,\n",
    "    'min_samples_split': 2,\n",
    "    'min_weight_fraction_leaf': 0.0,\n",
    "    'n_estimators': 100,\n",
    "    'n_jobs': 4,\n",
    "    'oob_score': False,\n",
    "    'random_state': 0,\n",
    "    'verbose': 0,\n",
    "    'warm_start': False,\n",
    "}"
   ]
  },
  {
   "cell_type": "code",
   "execution_count": 5,
   "id": "8a8a3647",
   "metadata": {
    "id": "8a8a3647"
   },
   "outputs": [
    {
     "name": "stdout",
     "output_type": "stream",
     "text": [
      "Evaluating base model for data preparation id 3\n",
      "\n",
      "X train has the following dimensions: (486440, 83)\n",
      "Y train has the following dimensions: (486440, 1)\n"
     ]
    },
    {
     "name": "stderr",
     "output_type": "stream",
     "text": [
      "5-fold cross validation: 100%|██████████| 5/5 [02:39<00:00, 31.83s/it]\n",
      "Y-Randomization: 100%|██████████| 10/10 [08:17<00:00, 49.72s/it]\n"
     ]
    },
    {
     "name": "stdout",
     "output_type": "stream",
     "text": [
      "Evaluating base model for data preparation id 2\n",
      "\n",
      "X train has the following dimensions: (486440, 79)\n",
      "Y train has the following dimensions: (486440, 1)\n"
     ]
    },
    {
     "name": "stderr",
     "output_type": "stream",
     "text": [
      "5-fold cross validation: 100%|██████████| 5/5 [02:30<00:00, 30.10s/it]\n",
      "Y-Randomization: 100%|██████████| 10/10 [07:22<00:00, 44.30s/it]\n"
     ]
    },
    {
     "name": "stdout",
     "output_type": "stream",
     "text": [
      "Evaluating base model for data preparation id 1\n",
      "\n",
      "X train has the following dimensions: (59070, 62)\n",
      "Y train has the following dimensions: (59070, 1)\n"
     ]
    },
    {
     "name": "stderr",
     "output_type": "stream",
     "text": [
      "5-fold cross validation: 100%|██████████| 5/5 [00:41<00:00,  8.33s/it]\n",
      "Y-Randomization: 100%|██████████| 10/10 [02:46<00:00, 16.69s/it]\n"
     ]
    }
   ],
   "source": [
    "df_results = pd.DataFrame()\n",
    "\n",
    "for id, key in ids.items():\n",
    "    \n",
    "    print(f'Evaluating base model for data preparation id {id}\\n')\n",
    "    \n",
    "    # Opening the dataset\n",
    "    X_train, Y_train = open_dataset(id, key, drive, test=False)\n",
    "    \n",
    "    # Y-randomization and cross-validation\n",
    "    df_results = pd.concat([df_results,\n",
    "                            build_base_model(id, X_train, Y_train.reshape(Y_train.shape[0],),\n",
    "                                            model_params, 'RFC', 'multi-class classification'\n",
    "                                            )\n",
    "                           ],\n",
    "                          axis=0,\n",
    "                          ignore_index=True)"
   ]
  },
  {
   "cell_type": "code",
   "execution_count": 6,
   "id": "80ef77e8",
   "metadata": {
    "id": "80ef77e8"
   },
   "outputs": [
    {
     "data": {
      "text/html": [
       "<div>\n",
       "<style scoped>\n",
       "    .dataframe tbody tr th:only-of-type {\n",
       "        vertical-align: middle;\n",
       "    }\n",
       "\n",
       "    .dataframe tbody tr th {\n",
       "        vertical-align: top;\n",
       "    }\n",
       "\n",
       "    .dataframe thead th {\n",
       "        text-align: right;\n",
       "    }\n",
       "</style>\n",
       "<table border=\"1\" class=\"dataframe\">\n",
       "  <thead>\n",
       "    <tr style=\"text-align: right;\">\n",
       "      <th></th>\n",
       "      <th>mean_validation_accuracy</th>\n",
       "      <th>mean_train_accuracy</th>\n",
       "      <th>accuracy_analysis</th>\n",
       "      <th>mean_validation_f1</th>\n",
       "      <th>mean_train_f1</th>\n",
       "      <th>mean_validation_0_1_loss_or_error</th>\n",
       "      <th>std_validation_0_1_loss_or_error</th>\n",
       "      <th>y_randomization_mean_0_1_loss_or_error</th>\n",
       "      <th>y_randomization_std_0_1_loss_or_error</th>\n",
       "      <th>id</th>\n",
       "    </tr>\n",
       "  </thead>\n",
       "  <tbody>\n",
       "    <tr>\n",
       "      <th>0</th>\n",
       "      <td>0.45</td>\n",
       "      <td>0.80</td>\n",
       "      <td>over-fitting (high variance)</td>\n",
       "      <td>0.45</td>\n",
       "      <td>0.80</td>\n",
       "      <td>0.55</td>\n",
       "      <td>0.000953</td>\n",
       "      <td>0.9</td>\n",
       "      <td>0.001091</td>\n",
       "      <td>3</td>\n",
       "    </tr>\n",
       "    <tr>\n",
       "      <th>1</th>\n",
       "      <td>0.45</td>\n",
       "      <td>0.80</td>\n",
       "      <td>over-fitting (high variance)</td>\n",
       "      <td>0.45</td>\n",
       "      <td>0.80</td>\n",
       "      <td>0.55</td>\n",
       "      <td>0.000683</td>\n",
       "      <td>0.9</td>\n",
       "      <td>0.000835</td>\n",
       "      <td>2</td>\n",
       "    </tr>\n",
       "    <tr>\n",
       "      <th>2</th>\n",
       "      <td>0.40</td>\n",
       "      <td>0.77</td>\n",
       "      <td>over-fitting (high variance)</td>\n",
       "      <td>0.40</td>\n",
       "      <td>0.77</td>\n",
       "      <td>0.60</td>\n",
       "      <td>0.001734</td>\n",
       "      <td>0.9</td>\n",
       "      <td>0.002348</td>\n",
       "      <td>1</td>\n",
       "    </tr>\n",
       "  </tbody>\n",
       "</table>\n",
       "</div>"
      ],
      "text/plain": [
       "   mean_validation_accuracy  mean_train_accuracy  \\\n",
       "0                      0.45                 0.80   \n",
       "1                      0.45                 0.80   \n",
       "2                      0.40                 0.77   \n",
       "\n",
       "              accuracy_analysis  mean_validation_f1  mean_train_f1  \\\n",
       "0  over-fitting (high variance)                0.45           0.80   \n",
       "1  over-fitting (high variance)                0.45           0.80   \n",
       "2  over-fitting (high variance)                0.40           0.77   \n",
       "\n",
       "   mean_validation_0_1_loss_or_error  std_validation_0_1_loss_or_error  \\\n",
       "0                               0.55                          0.000953   \n",
       "1                               0.55                          0.000683   \n",
       "2                               0.60                          0.001734   \n",
       "\n",
       "   y_randomization_mean_0_1_loss_or_error  \\\n",
       "0                                     0.9   \n",
       "1                                     0.9   \n",
       "2                                     0.9   \n",
       "\n",
       "   y_randomization_std_0_1_loss_or_error id  \n",
       "0                               0.001091  3  \n",
       "1                               0.000835  2  \n",
       "2                               0.002348  1  "
      ]
     },
     "execution_count": 6,
     "metadata": {},
     "output_type": "execute_result"
    }
   ],
   "source": [
    "df_results"
   ]
  },
  {
   "cell_type": "markdown",
   "id": "fd61b255",
   "metadata": {
    "id": "fd61b255"
   },
   "source": [
    "# 3. Selection of best data preprocessing\n",
    "\n",
    "Model performance, explainability, and time are three important factors to be considered.\n",
    "\n",
    "1. Explainability: from the point of view of the model, as the three pipelines use RFC, the explainability depends on the features. FAMD reduces the dimensionality by transforming the original features into new orthogonal ones. Thus, it is not possible to make inferences directly about the importance of the original feature.\n",
    "2. Performance: as shown in the above results, the default RFC presents overfitting for the three preprocessing pipelines and their performances are similar, with the pipeline id 1 a little worse than the others.\n",
    "3. Time: for Y randomization and cross validation, the pipeline id 1 required around 208 seconds. Nonetheless, the ratio between time and samples for pipeline 2 is the lowest (around 0.00127 sec/samples). This pepilene could represent the lower time per sample for tuning and prediction for serving models, considering that the pipeline 1 that uses FAMD will require additional time in order to transform the original feature to the new feature space.\n",
    "\n",
    "Thus, it is not complicated to decide for its performance, time for processing a sample, and explainability to select the pipeline id 2.\n",
    "\n"
   ]
  },
  {
   "cell_type": "markdown",
   "id": "835a8235",
   "metadata": {
    "id": "835a8235"
   },
   "source": [
    "# 4. Tuning the model"
   ]
  },
  {
   "cell_type": "code",
   "execution_count": 4,
   "id": "a5fde034",
   "metadata": {
    "id": "a5fde034",
    "outputId": "fc1891c1-0179-42c7-c626-040c94fb66ba"
   },
   "outputs": [
    {
     "name": "stdout",
     "output_type": "stream",
     "text": [
      "X train has the following dimensions: (486440, 79)\n",
      "Y train has the following dimensions: (486440, 1)\n",
      "X test has the following dimensions: (67159, 79)\n",
      "Y test has the following dimensions: (67159, 1)\n"
     ]
    }
   ],
   "source": [
    "# Opening the dataset\n",
    "X_train, Y_train, X_test, Y_test = open_dataset('2', '1pAgEm3u5_spuniqBBfFta3EK2xPuLQc3', drive, test=True)"
   ]
  },
  {
   "cell_type": "code",
   "execution_count": 5,
   "id": "a44ffdd6",
   "metadata": {},
   "outputs": [],
   "source": [
    "# Fixed parameters\n",
    "model_params = {\n",
    "    'ccp_alpha': 0.0,\n",
    "    'class_weight': 'balanced',\n",
    "    'max_leaf_nodes': None,\n",
    "    'max_samples': None,\n",
    "    'min_impurity_decrease': 0.0,\n",
    "    'min_weight_fraction_leaf': 0.0,\n",
    "    'n_jobs': 4,\n",
    "    'oob_score': False,\n",
    "    'random_state': 0,\n",
    "    'verbose': 0,\n",
    "    'warm_start': False,\n",
    "    'bootstrap': True\n",
    "}"
   ]
  },
  {
   "cell_type": "code",
   "execution_count": 6,
   "id": "fedd4185",
   "metadata": {
    "id": "fedd4185"
   },
   "outputs": [],
   "source": [
    "# For tuning\n",
    "search_space = [Integer(1, 50, name='min_samples_leaf'),\n",
    "                Integer(2, 50, name='min_samples_split'), \n",
    "                Categorical(['log2', 'sqrt'], name='max_features'),\n",
    "                Integer(10, 2000, name='n_estimators'),\n",
    "                Integer(10, 200, name='max_depth'),\n",
    "                Categorical(['gini', 'entropy'], name='criterion')]"
   ]
  },
  {
   "cell_type": "code",
   "execution_count": 7,
   "id": "45372e5c",
   "metadata": {
    "id": "45372e5c",
    "outputId": "d873d0c0-11a7-4382-e3c6-9d68b5c28bcf"
   },
   "outputs": [
    {
     "name": "stdout",
     "output_type": "stream",
     "text": [
      "The best model mean validation f1 is 0.49\n"
     ]
    }
   ],
   "source": [
    "# Tuning\n",
    "# We run Bayesian Optimization with Gaussian Processes, which uses a Multidimensional Gaussian distribution as surrogate model.\n",
    "# The objective function is the negative of the the mean f1 score for 5-fold cross-validation\n",
    "# A threshold of 0.75 for the f1 score to stop the optimization is used\n",
    "# n_iter_search = number of iterations for the Bayesian Optimization\n",
    "# time_to_optimize = the budget time to optimize the Bayesian Optimization\n",
    "\n",
    "start = time.time()\n",
    "\n",
    "tuning_result = parameter_tuning(X_train, Y_train.reshape(Y_train.shape[0],),\n",
    "                                'RFC', model_params,\n",
    "                                search_space,\n",
    "                                'multi-class classification',\n",
    "                                time_to_optimize=36000,\n",
    "                                n_iter_search=200,\n",
    "                                threshold=0.75, \n",
    "                                verbose=False)\n",
    "\n",
    "end = time.time()\n",
    "\n",
    "best_params = {'model': 'RFC': ['params': {**tuning_result['best_params'], **model_params}]}\n",
    "\n",
    "# Saving the best parameters\n",
    "save_best_params('multi-class_classification', best_params)\n",
    "\n",
    "print(f'The best model mean validation f1 is {tuning_result[\"best_mean_validation_f1\"]}')\n",
    "print(f'The time actually spent for tuning {end - start} seconds')  "
   ]
  },
  {
   "cell_type": "code",
   "execution_count": 8,
   "id": "239af1f4",
   "metadata": {},
   "outputs": [
    {
     "data": {
      "image/png": "[encoded data removed]",
      "text/plain": [
       "<Figure size 1008x360 with 1 Axes>"
      ]
     },
     "metadata": {
      "needs_background": "light"
     },
     "output_type": "display_data"
    }
   ],
   "source": [
    "plt.figure(figsize=(14,5))\n",
    "plot_convergence(tuning_result['search'])\n",
    "plt.title('Convergence of Bayesian Optimization for RFC model and multi-class classification')\n",
    "plt.xlabel('# Interations')\n",
    "plt.ylabel('- Mean F1 score')\n",
    "plt.xlim(1,len(tuning_result['search'].func_vals))\n",
    "plt.show()"
   ]
  }
 ],
 "metadata": {
  "colab": {
   "name": "1-josedhernandez-RFC.ipynb",
   "provenance": []
  },
  "kernelspec": {
   "display_name": "Python 3",
   "language": "python",
   "name": "python3"
  },
  "language_info": {
   "codemirror_mode": {
    "name": "ipython",
    "version": 3
   },
   "file_extension": ".py",
   "mimetype": "text/x-python",
   "name": "python",
   "nbconvert_exporter": "python",
   "pygments_lexer": "ipython3",
   "version": "3.9.4"
  }
 },
 "nbformat": 4,
 "nbformat_minor": 5
}
